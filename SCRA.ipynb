{
  "nbformat": 4,
  "nbformat_minor": 0,
  "metadata": {
    "colab": {
      "provenance": [],
      "authorship_tag": "ABX9TyMTNTgYvtHghA5yNFrU5Yws",
      "include_colab_link": true
    },
    "kernelspec": {
      "name": "python3",
      "display_name": "Python 3"
    },
    "language_info": {
      "name": "python"
    }
  },
  "cells": [
    {
      "cell_type": "markdown",
      "metadata": {
        "id": "view-in-github",
        "colab_type": "text"
      },
      "source": [
        "<a href=\"https://colab.research.google.com/github/Mulat-K/Machine-Learning-Mastery-with-Python/blob/main/SCRA.ipynb\" target=\"_parent\"><img src=\"https://colab.research.google.com/assets/colab-badge.svg\" alt=\"Open In Colab\"/></a>"
      ]
    },
    {
      "cell_type": "markdown",
      "source": [
        "***Spot-Check Regression Algorithms***"
      ],
      "metadata": {
        "id": "AxeehqPPyA3i"
      }
    },
    {
      "cell_type": "markdown",
      "source": [
        "# **Linear Machine Learning Algorithms**"
      ],
      "metadata": {
        "id": "vVhyqWWWyEBZ"
      }
    },
    {
      "cell_type": "markdown",
      "source": [
        "***Linear Regression***"
      ],
      "metadata": {
        "id": "zAku1e-6yQyo"
      }
    },
    {
      "cell_type": "code",
      "execution_count": 7,
      "metadata": {
        "colab": {
          "base_uri": "https://localhost:8080/"
        },
        "id": "jgAiQwtax_3r",
        "outputId": "9e0f4eed-7a78-4e89-dadb-717bd14fd70b"
      },
      "outputs": [
        {
          "output_type": "stream",
          "name": "stdout",
          "text": [
            "      CRIM    ZN  INDUS  CHAS    NOX     RM   AGE     DIS  RAD    TAX  \\\n",
            "0  0.00632  18.0   2.31     0  0.538  6.575  65.2  4.0900    1  296.0   \n",
            "1  0.02731   0.0   7.07     0  0.469  6.421  78.9  4.9671    2  242.0   \n",
            "2  0.02729   0.0   7.07     0  0.469  7.185  61.1  4.9671    2  242.0   \n",
            "3  0.03237   0.0   2.18     0  0.458  6.998  45.8  6.0622    3  222.0   \n",
            "4  0.06905   0.0   2.18     0  0.458  7.147  54.2  6.0622    3  222.0   \n",
            "\n",
            "   PTRATIO       B  LSTAT  MEDV  \n",
            "0     15.3  396.90   4.98  24.0  \n",
            "1     17.8  396.90   9.14  21.6  \n",
            "2     17.8  392.83   4.03  34.7  \n",
            "3     18.7  394.63   2.94  33.4  \n",
            "4     18.7  396.90   5.33  36.2  \n",
            "Mean Squared Error: 23.747\n"
          ]
        }
      ],
      "source": [
        "# Linear Regression with positive mean squared error\n",
        "from pandas import read_csv\n",
        "from sklearn.model_selection import KFold\n",
        "from sklearn.model_selection import cross_val_score\n",
        "from sklearn.linear_model import LinearRegression\n",
        "\n",
        "# Updated file path\n",
        "filename = '/content/sample_data/housing.csv'\n",
        "\n",
        "# Corrected to use ',' as delimiter\n",
        "names = ['CRIM', 'ZN', 'INDUS', 'CHAS', 'NOX', 'RM', 'AGE', 'DIS', 'RAD', 'TAX', 'PTRATIO',\n",
        "         'B', 'LSTAT', 'MEDV']\n",
        "\n",
        "# Use sep=',' to correctly handle comma-separated values\n",
        "dataframe = read_csv(filename, sep=',', names=names)\n",
        "\n",
        "# Check if data is correctly loaded\n",
        "print(dataframe.head())  # Just to inspect the first few rows of the dataframe\n",
        "\n",
        "# Convert the dataframe to numpy arrays for X and Y\n",
        "array = dataframe.values\n",
        "X = array[:, 0:13]\n",
        "Y = array[:, 13]\n",
        "\n",
        "# Enable shuffling and set random_state\n",
        "kfold = KFold(n_splits=10, shuffle=True, random_state=7)\n",
        "model = LinearRegression()\n",
        "scoring = 'neg_mean_squared_error'\n",
        "\n",
        "# Perform cross-validation\n",
        "results = cross_val_score(model, X, Y, cv=kfold, scoring=scoring)\n",
        "\n",
        "# Output positive mean squared error\n",
        "print(\"Mean Squared Error: %.3f\" % (-results.mean()))\n"
      ]
    },
    {
      "cell_type": "markdown",
      "source": [
        "***Ridge Regression***"
      ],
      "metadata": {
        "id": "97eOraUI0TZG"
      }
    },
    {
      "cell_type": "code",
      "source": [
        "# Ridge Regression with corrected issues\n",
        "from pandas import read_csv\n",
        "from sklearn.model_selection import KFold\n",
        "from sklearn.model_selection import cross_val_score\n",
        "from sklearn.linear_model import Ridge\n",
        "\n",
        "# Updated file path\n",
        "filename = '/content/sample_data/housing.csv'\n",
        "\n",
        "# Correct delimiter and header\n",
        "names = ['CRIM', 'ZN', 'INDUS', 'CHAS', 'NOX', 'RM', 'AGE', 'DIS', 'RAD', 'TAX', 'PTRATIO',\n",
        "         'B', 'LSTAT', 'MEDV']\n",
        "\n",
        "# Using ',' as the separator (based on the dataset's format)\n",
        "dataframe = read_csv(filename, sep=',', names=names)\n",
        "\n",
        "# Check if data is correctly loaded (optional)\n",
        "# print(dataframe.head())\n",
        "\n",
        "# Convert the dataframe to numpy arrays for X and Y\n",
        "array = dataframe.values\n",
        "X = array[:, 0:13]\n",
        "Y = array[:, 13]\n",
        "\n",
        "# Enable shuffling and set random_state for KFold\n",
        "kfold = KFold(n_splits=10, shuffle=True, random_state=7)\n",
        "\n",
        "# Initialize Ridge regression model\n",
        "model = Ridge()\n",
        "\n",
        "# Define scoring metric\n",
        "scoring = 'neg_mean_squared_error'\n",
        "\n",
        "# Perform cross-validation\n",
        "results = cross_val_score(model, X, Y, cv=kfold, scoring=scoring)\n",
        "\n",
        "# Output positive mean squared error\n",
        "print(\"Mean Squared Error: %.3f\" % (-results.mean()))\n"
      ],
      "metadata": {
        "colab": {
          "base_uri": "https://localhost:8080/"
        },
        "id": "Pe8rk_doy9zw",
        "outputId": "8236b32f-0986-47fa-9235-f742d6dd4ffc"
      },
      "execution_count": 8,
      "outputs": [
        {
          "output_type": "stream",
          "name": "stdout",
          "text": [
            "Mean Squared Error: 23.890\n"
          ]
        }
      ]
    },
    {
      "cell_type": "markdown",
      "source": [
        "***LASSO Regression***"
      ],
      "metadata": {
        "id": "BG6ylejH0g0W"
      }
    },
    {
      "cell_type": "code",
      "source": [
        "# Lasso Regression with corrected issues\n",
        "from pandas import read_csv\n",
        "from sklearn.model_selection import KFold\n",
        "from sklearn.model_selection import cross_val_score\n",
        "from sklearn.linear_model import Lasso\n",
        "\n",
        "# Updated file path\n",
        "filename = '/content/sample_data/housing.csv'\n",
        "\n",
        "# Correct delimiter and header\n",
        "names = ['CRIM', 'ZN', 'INDUS', 'CHAS', 'NOX', 'RM', 'AGE', 'DIS', 'RAD', 'TAX', 'PTRATIO',\n",
        "         'B', 'LSTAT', 'MEDV']\n",
        "\n",
        "# Using ',' as the separator (based on the dataset's format)\n",
        "dataframe = read_csv(filename, sep=',', names=names)\n",
        "\n",
        "# Convert the dataframe to numpy arrays for X and Y\n",
        "array = dataframe.values\n",
        "X = array[:, 0:13]\n",
        "Y = array[:, 13]\n",
        "\n",
        "# Enable shuffling and set random_state for KFold\n",
        "kfold = KFold(n_splits=10, shuffle=True, random_state=7)\n",
        "\n",
        "# Initialize Lasso regression model\n",
        "model = Lasso()\n",
        "\n",
        "# Define scoring metric\n",
        "scoring = 'neg_mean_squared_error'\n",
        "\n",
        "# Perform cross-validation\n",
        "results = cross_val_score(model, X, Y, cv=kfold, scoring=scoring)\n",
        "\n",
        "# Output positive mean squared error\n",
        "print(\"Mean Squared Error: %.3f\" % (-results.mean()))\n"
      ],
      "metadata": {
        "colab": {
          "base_uri": "https://localhost:8080/"
        },
        "id": "13cvvSnt0a3Y",
        "outputId": "7da57a55-0f86-419d-bec3-234aa9bd6901"
      },
      "execution_count": 9,
      "outputs": [
        {
          "output_type": "stream",
          "name": "stdout",
          "text": [
            "Mean Squared Error: 28.746\n"
          ]
        }
      ]
    },
    {
      "cell_type": "markdown",
      "source": [
        "***ElasticNet Regression***"
      ],
      "metadata": {
        "id": "B5orcfbW0s3G"
      }
    },
    {
      "cell_type": "code",
      "source": [
        "# ElasticNet Regression with corrected issues\n",
        "from pandas import read_csv\n",
        "from sklearn.model_selection import KFold\n",
        "from sklearn.model_selection import cross_val_score\n",
        "from sklearn.linear_model import ElasticNet\n",
        "\n",
        "# Updated file path\n",
        "filename = '/content/sample_data/housing.csv'\n",
        "\n",
        "# Correct delimiter and header\n",
        "names = ['CRIM', 'ZN', 'INDUS', 'CHAS', 'NOX', 'RM', 'AGE', 'DIS', 'RAD', 'TAX', 'PTRATIO',\n",
        "         'B', 'LSTAT', 'MEDV']\n",
        "\n",
        "# Using ',' as the separator (based on the dataset's format)\n",
        "dataframe = read_csv(filename, sep=',', names=names)\n",
        "\n",
        "# Convert the dataframe to numpy arrays for X and Y\n",
        "array = dataframe.values\n",
        "X = array[:, 0:13]\n",
        "Y = array[:, 13]\n",
        "\n",
        "# Enable shuffling and set random_state for KFold\n",
        "kfold = KFold(n_splits=10, shuffle=True, random_state=7)\n",
        "\n",
        "# Initialize ElasticNet regression model\n",
        "model = ElasticNet()\n",
        "\n",
        "# Define scoring metric\n",
        "scoring = 'neg_mean_squared_error'\n",
        "\n",
        "# Perform cross-validation\n",
        "results = cross_val_score(model, X, Y, cv=kfold, scoring=scoring)\n",
        "\n",
        "# Output positive mean squared error\n",
        "print(\"Mean Squared Error: %.3f\" % (-results.mean()))\n"
      ],
      "metadata": {
        "colab": {
          "base_uri": "https://localhost:8080/"
        },
        "id": "96SiLnnc0qVq",
        "outputId": "f297daea-6ef1-4e8b-aae9-b3e36acb5d1c"
      },
      "execution_count": 10,
      "outputs": [
        {
          "output_type": "stream",
          "name": "stdout",
          "text": [
            "Mean Squared Error: 27.908\n"
          ]
        }
      ]
    },
    {
      "cell_type": "markdown",
      "source": [
        "# ***Nonlinear Machine Learning Algorithms***"
      ],
      "metadata": {
        "id": "e-WeOjXT05Wl"
      }
    },
    {
      "cell_type": "markdown",
      "source": [
        "***K-Nearest Neighbors***"
      ],
      "metadata": {
        "id": "rD0jKHU3084F"
      }
    },
    {
      "cell_type": "code",
      "source": [
        "# KNN Regression with corrected issues\n",
        "from pandas import read_csv\n",
        "from sklearn.model_selection import KFold\n",
        "from sklearn.model_selection import cross_val_score\n",
        "from sklearn.neighbors import KNeighborsRegressor\n",
        "\n",
        "# Updated file path\n",
        "filename = '/content/sample_data/housing.csv'\n",
        "\n",
        "# Correct delimiter and header\n",
        "names = ['CRIM', 'ZN', 'INDUS', 'CHAS', 'NOX', 'RM', 'AGE', 'DIS', 'RAD', 'TAX', 'PTRATIO',\n",
        "         'B', 'LSTAT', 'MEDV']\n",
        "\n",
        "# Using ',' as the separator (based on the dataset's format)\n",
        "dataframe = read_csv(filename, sep=',', names=names)\n",
        "\n",
        "# Convert the dataframe to numpy arrays for X and Y\n",
        "array = dataframe.values\n",
        "X = array[:, 0:13]\n",
        "Y = array[:, 13]\n",
        "\n",
        "# Enable shuffling and set random_state for KFold\n",
        "kfold = KFold(n_splits=10, shuffle=True, random_state=7)\n",
        "\n",
        "# Initialize KNN regression model\n",
        "model = KNeighborsRegressor()\n",
        "\n",
        "# Define scoring metric\n",
        "scoring = 'neg_mean_squared_error'\n",
        "\n",
        "# Perform cross-validation\n",
        "results = cross_val_score(model, X, Y, cv=kfold, scoring=scoring)\n",
        "\n",
        "# Output positive mean squared error\n",
        "print(\"Mean Squared Error: %.3f\" % (-results.mean()))\n"
      ],
      "metadata": {
        "colab": {
          "base_uri": "https://localhost:8080/"
        },
        "id": "JHGkJiXx01cg",
        "outputId": "2e5d2e0a-cb5d-4f63-d07a-6fdf87750b2f"
      },
      "execution_count": 11,
      "outputs": [
        {
          "output_type": "stream",
          "name": "stdout",
          "text": [
            "Mean Squared Error: 38.852\n"
          ]
        }
      ]
    },
    {
      "cell_type": "markdown",
      "source": [
        "***Classi cation and Regression Trees***"
      ],
      "metadata": {
        "id": "SuvtXzLr1GZ2"
      }
    },
    {
      "cell_type": "code",
      "source": [
        "# Decision Tree Regression with corrected issues\n",
        "from pandas import read_csv\n",
        "from sklearn.model_selection import KFold\n",
        "from sklearn.model_selection import cross_val_score\n",
        "from sklearn.tree import DecisionTreeRegressor\n",
        "\n",
        "# Updated file path\n",
        "filename = '/content/sample_data/housing.csv'\n",
        "\n",
        "# Correct delimiter\n",
        "names = ['CRIM', 'ZN', 'INDUS', 'CHAS', 'NOX', 'RM', 'AGE', 'DIS', 'RAD', 'TAX', 'PTRATIO',\n",
        "         'B', 'LSTAT', 'MEDV']\n",
        "\n",
        "# Correct delimiter (comma-separated values)\n",
        "dataframe = read_csv(filename, sep=',', names=names)\n",
        "\n",
        "# Convert the dataframe to numpy arrays for X and Y\n",
        "array = dataframe.values\n",
        "X = array[:, 0:13]\n",
        "Y = array[:, 13]\n",
        "\n",
        "# Enable shuffling and set random_state for KFold\n",
        "kfold = KFold(n_splits=10, shuffle=True, random_state=7)\n",
        "\n",
        "# Initialize Decision Tree regression model\n",
        "model = DecisionTreeRegressor()\n",
        "\n",
        "# Define scoring metric\n",
        "scoring = 'neg_mean_squared_error'\n",
        "\n",
        "# Perform cross-validation\n",
        "results = cross_val_score(model, X, Y, cv=kfold, scoring=scoring)\n",
        "\n",
        "# Output positive mean squared error\n",
        "print(\"Mean Squared Error: %.3f\" % (-results.mean()))\n"
      ],
      "metadata": {
        "colab": {
          "base_uri": "https://localhost:8080/"
        },
        "id": "4QMXGXWe1D2l",
        "outputId": "1424f6db-806c-42d6-a0ae-bff5f0e90ea5"
      },
      "execution_count": 12,
      "outputs": [
        {
          "output_type": "stream",
          "name": "stdout",
          "text": [
            "Mean Squared Error: 22.108\n"
          ]
        }
      ]
    },
    {
      "cell_type": "markdown",
      "source": [
        "***Support Vector Machines***"
      ],
      "metadata": {
        "id": "9BhRNuEp1UYm"
      }
    },
    {
      "cell_type": "code",
      "source": [
        "# SVM Regression with corrected issues\n",
        "from pandas import read_csv\n",
        "from sklearn.model_selection import KFold\n",
        "from sklearn.model_selection import cross_val_score\n",
        "from sklearn.svm import SVR\n",
        "\n",
        "# Updated file path\n",
        "filename = '/content/sample_data/housing.csv'\n",
        "\n",
        "# Correct delimiter\n",
        "names = ['CRIM', 'ZN', 'INDUS', 'CHAS', 'NOX', 'RM', 'AGE', 'DIS', 'RAD', 'TAX', 'PTRATIO',\n",
        "         'B', 'LSTAT', 'MEDV']\n",
        "\n",
        "# Read CSV data using the correct separator\n",
        "dataframe = read_csv(filename, sep=',', names=names)\n",
        "\n",
        "# Convert the dataframe to numpy arrays for X and Y\n",
        "array = dataframe.values\n",
        "X = array[:, 0:13]\n",
        "Y = array[:, 13]\n",
        "\n",
        "# Enable shuffling and set random_state for KFold\n",
        "kfold = KFold(n_splits=10, shuffle=True, random_state=7)\n",
        "\n",
        "# Initialize SVM regression model\n",
        "model = SVR()\n",
        "\n",
        "# Define scoring metric\n",
        "scoring = 'neg_mean_squared_error'\n",
        "\n",
        "# Perform cross-validation\n",
        "results = cross_val_score(model, X, Y, cv=kfold, scoring=scoring)\n",
        "\n",
        "# Output positive mean squared error\n",
        "print(\"Mean Squared Error: %.3f\" % (-results.mean()))\n"
      ],
      "metadata": {
        "colab": {
          "base_uri": "https://localhost:8080/"
        },
        "id": "cwm-lJ2B1STQ",
        "outputId": "9a6d9daa-5219-4fb3-a0f5-82ef50219fda"
      },
      "execution_count": 13,
      "outputs": [
        {
          "output_type": "stream",
          "name": "stdout",
          "text": [
            "Mean Squared Error: 67.641\n"
          ]
        }
      ]
    }
  ]
}