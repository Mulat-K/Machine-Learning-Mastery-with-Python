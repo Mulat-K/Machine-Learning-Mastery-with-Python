{
  "nbformat": 4,
  "nbformat_minor": 0,
  "metadata": {
    "colab": {
      "provenance": [],
      "authorship_tag": "ABX9TyMJ3p+T6ZJcpY4sY7tZpmyl"
    },
    "kernelspec": {
      "name": "python3",
      "display_name": "Python 3"
    },
    "language_info": {
      "name": "python"
    }
  },
  "cells": [
    {
      "cell_type": "code",
      "execution_count": null,
      "metadata": {
        "id": "A_SGaEVBbUs6",
        "colab": {
          "base_uri": "https://localhost:8080/"
        },
        "outputId": "2f68ca0a-9801-48f2-d598-2789483da7e4"
      },
      "outputs": [
        {
          "output_type": "stream",
          "name": "stdout",
          "text": [
            "Hellow World!\n"
          ]
        }
      ],
      "source": [
        "print(\"Hellow World!\")"
      ]
    }
  ]
}