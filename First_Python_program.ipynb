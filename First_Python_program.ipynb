{
  "nbformat": 4,
  "nbformat_minor": 0,
  "metadata": {
    "colab": {
      "provenance": [],
      "authorship_tag": "ABX9TyPzEDOeH5DhVXfwxr/T6eZC"
    },
    "kernelspec": {
      "name": "python3",
      "display_name": "Python 3"
    },
    "language_info": {
      "name": "python"
    }
  },
  "cells": [
    {
      "cell_type": "code",
      "execution_count": 2,
      "metadata": {
        "id": "A_SGaEVBbUs6",
        "colab": {
          "base_uri": "https://localhost:8080/"
        },
        "outputId": "190c1758-b88c-4b19-ee33-658377382a70"
      },
      "outputs": [
        {
          "output_type": "stream",
          "name": "stdout",
          "text": [
            "Wellcome\n"
          ]
        }
      ],
      "source": [
        "print(\"Wellcome\")"
      ]
    }
  ]
}