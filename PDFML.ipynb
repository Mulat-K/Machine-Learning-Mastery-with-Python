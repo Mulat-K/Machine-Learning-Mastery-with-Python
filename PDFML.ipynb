{
  "nbformat": 4,
  "nbformat_minor": 0,
  "metadata": {
    "colab": {
      "provenance": [],
      "authorship_tag": "ABX9TyMpql+9JmKQS0Ant/pJOmDr",
      "include_colab_link": true
    },
    "kernelspec": {
      "name": "python3",
      "display_name": "Python 3"
    },
    "language_info": {
      "name": "python"
    }
  },
  "cells": [
    {
      "cell_type": "markdown",
      "metadata": {
        "id": "view-in-github",
        "colab_type": "text"
      },
      "source": [
        "<a href=\"https://colab.research.google.com/github/Mulat-K/Machine-Learning-Mastery-with-Python/blob/main/PDFML.ipynb\" target=\"_parent\"><img src=\"https://colab.research.google.com/assets/colab-badge.svg\" alt=\"Open In Colab\"/></a>"
      ]
    },
    {
      "cell_type": "markdown",
      "source": [
        "**Prepare Your Data For Machine\n",
        " Learning**\n",
        "\n"
      ],
      "metadata": {
        "id": "a-O2iQoUf5FQ"
      }
    },
    {
      "cell_type": "markdown",
      "source": [
        "# **Rescale Data**"
      ],
      "metadata": {
        "id": "yhGD0W7IgM5o"
      }
    },
    {
      "cell_type": "code",
      "execution_count": 1,
      "metadata": {
        "colab": {
          "base_uri": "https://localhost:8080/"
        },
        "id": "gTYLqegtftGF",
        "outputId": "234a930f-3a3e-405c-d461-118b45b14066"
      },
      "outputs": [
        {
          "output_type": "stream",
          "name": "stdout",
          "text": [
            "Rescaled data sample:\n",
            "[[0.353 0.744 0.59  0.354 0.    0.501 0.234 0.483]\n",
            " [0.059 0.427 0.541 0.293 0.    0.396 0.117 0.167]\n",
            " [0.471 0.92  0.525 0.    0.    0.347 0.254 0.183]\n",
            " [0.059 0.447 0.541 0.232 0.111 0.419 0.038 0.   ]\n",
            " [0.    0.688 0.328 0.354 0.199 0.642 0.944 0.2  ]]\n"
          ]
        }
      ],
      "source": [
        "import pandas as pd\n",
        "import numpy as np\n",
        "from sklearn.preprocessing import MinMaxScaler\n",
        "\n",
        "filename = '/content/sample_data/pima-indians-diabetes.data.csv'\n",
        "column_names = ['preg', 'plas', 'pres', 'skin', 'test', 'mass', 'pedi', 'age', 'class']\n",
        "\n",
        "# Load the dataset assuming no header\n",
        "dataframe = pd.read_csv(filename, names=column_names, header=None)\n",
        "\n",
        "# Ensure numeric data and handle any potential parsing issues\n",
        "dataframe = dataframe.apply(pd.to_numeric, errors='coerce')\n",
        "dataframe.dropna(inplace=True)\n",
        "\n",
        "# Split input and output\n",
        "X = dataframe.iloc[:, 0:8].values\n",
        "Y = dataframe.iloc[:, 8].values\n",
        "\n",
        "# Rescale features\n",
        "scaler = MinMaxScaler(feature_range=(0, 1))\n",
        "rescaledX = scaler.fit_transform(X)\n",
        "\n",
        "# Set print options and display sample\n",
        "np.set_printoptions(precision=3)\n",
        "print(\"Rescaled data sample:\")\n",
        "print(rescaledX[:5])  # print first 5 rows\n"
      ]
    },
    {
      "cell_type": "markdown",
      "source": [
        "# **Standardize Data**"
      ],
      "metadata": {
        "id": "q2gwuXj1g0vn"
      }
    },
    {
      "cell_type": "code",
      "source": [
        "import pandas as pd\n",
        "import numpy as np\n",
        "from sklearn.preprocessing import StandardScaler\n",
        "\n",
        "filename = '/content/sample_data/pima-indians-diabetes.data.csv'\n",
        "column_names = ['preg', 'plas', 'pres', 'skin', 'test', 'mass', 'pedi', 'age', 'class']\n",
        "\n",
        "# Load dataset (no header in the file)\n",
        "dataframe = pd.read_csv(filename, names=column_names, header=None)\n",
        "\n",
        "# Ensure numeric data\n",
        "dataframe = dataframe.apply(pd.to_numeric, errors='coerce')\n",
        "dataframe.dropna(inplace=True)\n",
        "\n",
        "# Separate input and output features\n",
        "X = dataframe.iloc[:, 0:8].values\n",
        "Y = dataframe.iloc[:, 8].values\n",
        "\n",
        "# Standardize input features\n",
        "scaler = StandardScaler()\n",
        "standardizedX = scaler.fit_transform(X)\n",
        "\n",
        "# Print first 5 standardized rows\n",
        "np.set_printoptions(precision=3)\n",
        "print(\"Standardized data sample:\")\n",
        "print(standardizedX[:5])\n"
      ],
      "metadata": {
        "colab": {
          "base_uri": "https://localhost:8080/"
        },
        "id": "-GXgloYjgn2Q",
        "outputId": "d9147d9f-de94-4efb-8a5b-e87c7c2d25f2"
      },
      "execution_count": 2,
      "outputs": [
        {
          "output_type": "stream",
          "name": "stdout",
          "text": [
            "Standardized data sample:\n",
            "[[ 0.64   0.848  0.15   0.907 -0.693  0.204  0.468  1.426]\n",
            " [-0.845 -1.123 -0.161  0.531 -0.693 -0.684 -0.365 -0.191]\n",
            " [ 1.234  1.944 -0.264 -1.288 -0.693 -1.103  0.604 -0.106]\n",
            " [-0.845 -0.998 -0.161  0.155  0.123 -0.494 -0.921 -1.042]\n",
            " [-1.142  0.504 -1.505  0.907  0.766  1.41   5.485 -0.02 ]]\n"
          ]
        }
      ]
    },
    {
      "cell_type": "markdown",
      "source": [
        "# **Normalize Data**"
      ],
      "metadata": {
        "id": "_BLKNi0ThErA"
      }
    },
    {
      "cell_type": "code",
      "source": [
        "import pandas as pd\n",
        "import numpy as np\n",
        "from sklearn.preprocessing import Normalizer\n",
        "\n",
        "filename = '/content/sample_data/pima-indians-diabetes.data.csv'\n",
        "column_names = ['preg', 'plas', 'pres', 'skin', 'test', 'mass', 'pedi', 'age', 'class']\n",
        "\n",
        "# Load dataset assuming no header\n",
        "dataframe = pd.read_csv(filename, names=column_names, header=None)\n",
        "\n",
        "# Convert all values to numeric and drop any problematic rows\n",
        "dataframe = dataframe.apply(pd.to_numeric, errors='coerce')\n",
        "dataframe.dropna(inplace=True)\n",
        "\n",
        "# Separate input and output\n",
        "X = dataframe.iloc[:, 0:8].values\n",
        "Y = dataframe.iloc[:, 8].values\n",
        "\n",
        "# Normalize input features (L2 norm by default)\n",
        "scaler = Normalizer()\n",
        "normalizedX = scaler.fit_transform(X)\n",
        "\n",
        "# Show the first 5 normalized rows\n",
        "np.set_printoptions(precision=3)\n",
        "print(\"Normalized data sample:\")\n",
        "print(normalizedX[:5])\n"
      ],
      "metadata": {
        "colab": {
          "base_uri": "https://localhost:8080/"
        },
        "id": "wzwEzYvRhAWD",
        "outputId": "dba5f44e-1200-4036-d794-1b7d88512a11"
      },
      "execution_count": 3,
      "outputs": [
        {
          "output_type": "stream",
          "name": "stdout",
          "text": [
            "Normalized data sample:\n",
            "[[0.034 0.828 0.403 0.196 0.    0.188 0.004 0.28 ]\n",
            " [0.008 0.716 0.556 0.244 0.    0.224 0.003 0.261]\n",
            " [0.04  0.924 0.323 0.    0.    0.118 0.003 0.162]\n",
            " [0.007 0.588 0.436 0.152 0.622 0.186 0.001 0.139]\n",
            " [0.    0.596 0.174 0.152 0.731 0.188 0.01  0.144]]\n"
          ]
        }
      ]
    },
    {
      "cell_type": "markdown",
      "source": [
        "# **Binarize Data (Make Binary)**"
      ],
      "metadata": {
        "id": "tKvLQ_XThPfA"
      }
    },
    {
      "cell_type": "code",
      "source": [
        "import pandas as pd\n",
        "import numpy as np\n",
        "from sklearn.preprocessing import Binarizer\n",
        "\n",
        "filename = '/content/sample_data/pima-indians-diabetes.data.csv'\n",
        "column_names = ['preg', 'plas', 'pres', 'skin', 'test', 'mass', 'pedi', 'age', 'class']\n",
        "\n",
        "# Load dataset assuming no header\n",
        "dataframe = pd.read_csv(filename, names=column_names, header=None)\n",
        "\n",
        "# Ensure numeric data and handle any parsing issues\n",
        "dataframe = dataframe.apply(pd.to_numeric, errors='coerce')\n",
        "dataframe.dropna(inplace=True)\n",
        "\n",
        "# Separate input and output\n",
        "X = dataframe.iloc[:, 0:8].values\n",
        "Y = dataframe.iloc[:, 8].values\n",
        "\n",
        "# Apply binarization (1 if > threshold, else 0)\n",
        "binarizer = Binarizer(threshold=0.0)\n",
        "binaryX = binarizer.fit_transform(X)\n",
        "\n",
        "# Display first 5 binarized samples\n",
        "np.set_printoptions(precision=3)\n",
        "print(\"Binarized data sample:\")\n",
        "print(binaryX[:5])\n"
      ],
      "metadata": {
        "colab": {
          "base_uri": "https://localhost:8080/"
        },
        "id": "yCekCn_LhOSl",
        "outputId": "28cf1875-b414-46e8-b5e8-d6cc74be3310"
      },
      "execution_count": 4,
      "outputs": [
        {
          "output_type": "stream",
          "name": "stdout",
          "text": [
            "Binarized data sample:\n",
            "[[1. 1. 1. 1. 0. 1. 1. 1.]\n",
            " [1. 1. 1. 1. 0. 1. 1. 1.]\n",
            " [1. 1. 1. 0. 0. 1. 1. 1.]\n",
            " [1. 1. 1. 1. 1. 1. 1. 1.]\n",
            " [0. 1. 1. 1. 1. 1. 1. 1.]]\n"
          ]
        }
      ]
    }
  ]
}