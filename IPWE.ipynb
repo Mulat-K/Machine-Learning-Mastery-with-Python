{
  "nbformat": 4,
  "nbformat_minor": 0,
  "metadata": {
    "colab": {
      "provenance": [],
      "authorship_tag": "ABX9TyPzMWkSY8ZTlQCaFTt4M8fb",
      "include_colab_link": true
    },
    "kernelspec": {
      "name": "python3",
      "display_name": "Python 3"
    },
    "language_info": {
      "name": "python"
    }
  },
  "cells": [
    {
      "cell_type": "markdown",
      "metadata": {
        "id": "view-in-github",
        "colab_type": "text"
      },
      "source": [
        "<a href=\"https://colab.research.google.com/github/Mulat-K/Machine-Learning-Mastery-with-Python/blob/main/IPWE.ipynb\" target=\"_parent\"><img src=\"https://colab.research.google.com/assets/colab-badge.svg\" alt=\"Open In Colab\"/></a>"
      ]
    },
    {
      "cell_type": "markdown",
      "source": [
        "***Improve Performance with Ensembles***"
      ],
      "metadata": {
        "id": "VPH2yNrh9qFI"
      }
    },
    {
      "cell_type": "markdown",
      "source": [
        "# ***Bagging Algorithms***"
      ],
      "metadata": {
        "id": "DcwSqr0p9u9m"
      }
    },
    {
      "cell_type": "markdown",
      "source": [
        "***Bagged Decision Trees***"
      ],
      "metadata": {
        "id": "zm1ZEJB29yvG"
      }
    },
    {
      "cell_type": "code",
      "execution_count": 12,
      "metadata": {
        "colab": {
          "base_uri": "https://localhost:8080/"
        },
        "id": "vIZEb9gJ9n9H",
        "outputId": "25c97fa4-4af5-445f-c109-94e222e2bb87"
      },
      "outputs": [
        {
          "output_type": "stream",
          "name": "stdout",
          "text": [
            "Accuracy: 0.762\n"
          ]
        }
      ],
      "source": [
        "import pandas as pd\n",
        "from sklearn.model_selection import KFold, cross_val_score\n",
        "from sklearn.ensemble import BaggingClassifier\n",
        "from sklearn.tree import DecisionTreeClassifier\n",
        "\n",
        "# Load the dataset\n",
        "filename = '/content/sample_data/pima-indians-diabetes.data.csv'\n",
        "\n",
        "# Define column names\n",
        "names = ['preg', 'plas', 'pres', 'skin', 'test', 'mass', 'pedi', 'age', 'class']\n",
        "dataframe = pd.read_csv(filename, names=names)\n",
        "\n",
        "# Convert all columns to numeric (if needed) and handle any non-numeric data\n",
        "dataframe = dataframe.apply(pd.to_numeric, errors='coerce')\n",
        "\n",
        "# Handle missing values by replacing NaNs with column means\n",
        "dataframe = dataframe.fillna(dataframe.mean())\n",
        "\n",
        "# Split data into input (X) and output (Y)\n",
        "array = dataframe.values\n",
        "X = array[:, 0:8]\n",
        "Y = array[:, 8]\n",
        "\n",
        "# Ensure that Y is in binary format for classification\n",
        "Y = Y.astype('int')  # Convert the target variable to integer\n",
        "\n",
        "# Define the random seed and cross-validation strategy\n",
        "seed = 7\n",
        "kfold = KFold(n_splits=10, random_state=seed, shuffle=True)  # Enable shuffling\n",
        "\n",
        "# Initialize the base classifier and Bagging model\n",
        "cart = DecisionTreeClassifier()\n",
        "num_trees = 100\n",
        "model = BaggingClassifier(estimator=cart, n_estimators=num_trees, random_state=seed)\n",
        "\n",
        "# Evaluate the model with cross-validation\n",
        "results = cross_val_score(model, X, Y, cv=kfold)\n",
        "print(f\"Accuracy: {results.mean():.3f}\")\n"
      ]
    },
    {
      "cell_type": "markdown",
      "source": [
        "***Random Forest***"
      ],
      "metadata": {
        "id": "19Xc1MBg_-xl"
      }
    },
    {
      "cell_type": "code",
      "source": [
        "from pandas import read_csv\n",
        "from sklearn.model_selection import KFold, cross_val_score\n",
        "from sklearn.ensemble import RandomForestClassifier\n",
        "import numpy as np\n",
        "\n",
        "# Load the dataset\n",
        "filename = '/content/sample_data/pima-indians-diabetes.data.csv'  # Correct path\n",
        "\n",
        "# Define column names\n",
        "names = ['preg', 'plas', 'pres', 'skin', 'test', 'mass', 'pedi', 'age', 'class']\n",
        "dataframe = read_csv(filename, names=names)\n",
        "\n",
        "# Convert the dataframe to numeric values and handle non-numeric data\n",
        "dataframe = dataframe.apply(pd.to_numeric, errors='coerce')\n",
        "\n",
        "# Handle missing values by filling NaNs with column means\n",
        "dataframe = dataframe.fillna(dataframe.mean())\n",
        "\n",
        "# Split the data into input (X) and output (Y)\n",
        "array = dataframe.values\n",
        "X = array[:, 0:8]\n",
        "Y = array[:, 8]\n",
        "\n",
        "# Ensure the target variable Y is in a binary classification format\n",
        "Y = Y.astype('int')  # Convert to integers for classification\n",
        "\n",
        "# Define model parameters\n",
        "num_trees = 100\n",
        "max_features = 3\n",
        "seed = 7\n",
        "\n",
        "# Set up cross-validation\n",
        "kfold = KFold(n_splits=10, random_state=seed, shuffle=True)\n",
        "\n",
        "# Initialize the RandomForest model\n",
        "model = RandomForestClassifier(n_estimators=num_trees, max_features=max_features, random_state=seed)\n",
        "\n",
        "# Evaluate the model using cross-validation\n",
        "results = cross_val_score(model, X, Y, cv=kfold)\n",
        "\n",
        "# Print the mean of the cross-validation results\n",
        "print(f\"Accuracy: {results.mean():.3f}\")\n"
      ],
      "metadata": {
        "colab": {
          "base_uri": "https://localhost:8080/"
        },
        "id": "ajtxVlSz9_su",
        "outputId": "41d7ea91-5086-401b-ec53-88a38a97e959"
      },
      "execution_count": 13,
      "outputs": [
        {
          "output_type": "stream",
          "name": "stdout",
          "text": [
            "Accuracy: 0.776\n"
          ]
        }
      ]
    },
    {
      "cell_type": "markdown",
      "source": [
        "***Extra Trees***"
      ],
      "metadata": {
        "id": "vTxuq_oaAi9V"
      }
    },
    {
      "cell_type": "code",
      "source": [
        "from pandas import read_csv\n",
        "from sklearn.model_selection import KFold, cross_val_score\n",
        "from sklearn.ensemble import ExtraTreesClassifier\n",
        "import pandas as pd\n",
        "\n",
        "# Load the dataset\n",
        "filename = '/content/sample_data/pima-indians-diabetes.data.csv'  # Correct path\n",
        "\n",
        "# Define column names\n",
        "names = ['preg', 'plas', 'pres', 'skin', 'test', 'mass', 'pedi', 'age', 'class']\n",
        "dataframe = read_csv(filename, names=names)\n",
        "\n",
        "# Convert the dataframe to numeric values and handle non-numeric data\n",
        "dataframe = dataframe.apply(pd.to_numeric, errors='coerce')\n",
        "\n",
        "# Handle missing values by filling NaNs with column means\n",
        "dataframe = dataframe.fillna(dataframe.mean())\n",
        "\n",
        "# Split the data into input (X) and output (Y)\n",
        "array = dataframe.values\n",
        "X = array[:, 0:8]\n",
        "Y = array[:, 8]\n",
        "\n",
        "# Ensure the target variable Y is in a binary classification format\n",
        "Y = Y.astype('int')  # Convert to integers for classification\n",
        "\n",
        "# Define model parameters\n",
        "num_trees = 100\n",
        "max_features = 7\n",
        "seed = 7\n",
        "\n",
        "# Set up cross-validation\n",
        "kfold = KFold(n_splits=10, random_state=seed, shuffle=True)\n",
        "\n",
        "# Initialize the ExtraTrees model\n",
        "model = ExtraTreesClassifier(n_estimators=num_trees, max_features=max_features, random_state=seed)\n",
        "\n",
        "# Evaluate the model using cross-validation\n",
        "results = cross_val_score(model, X, Y, cv=kfold)\n",
        "\n",
        "# Print the mean of the cross-validation results\n",
        "print(f\"Accuracy: {results.mean():.3f}\")\n"
      ],
      "metadata": {
        "colab": {
          "base_uri": "https://localhost:8080/"
        },
        "id": "nHVGlWW-AflA",
        "outputId": "d10f3813-a8e9-4c44-8a67-96786be0e2c4"
      },
      "execution_count": 17,
      "outputs": [
        {
          "output_type": "stream",
          "name": "stdout",
          "text": [
            "Accuracy: 0.756\n"
          ]
        }
      ]
    },
    {
      "cell_type": "markdown",
      "source": [
        "# ***Boosting Algorithms***"
      ],
      "metadata": {
        "id": "qkfXiHkmBHwU"
      }
    },
    {
      "cell_type": "markdown",
      "source": [
        "***AdaBoost***"
      ],
      "metadata": {
        "id": "VOQKlYccBNPV"
      }
    },
    {
      "cell_type": "code",
      "source": [
        "from pandas import read_csv\n",
        "from sklearn.model_selection import KFold, cross_val_score\n",
        "from sklearn.ensemble import AdaBoostClassifier\n",
        "import pandas as pd\n",
        "\n",
        "# Load the dataset\n",
        "filename = '/content/sample_data/pima-indians-diabetes.data.csv'  # Correct path\n",
        "names = ['preg', 'plas', 'pres', 'skin', 'test', 'mass', 'pedi', 'age', 'class']\n",
        "dataframe = read_csv(filename, names=names)\n",
        "\n",
        "# Convert the dataframe to numeric values and handle non-numeric data\n",
        "dataframe = dataframe.apply(pd.to_numeric, errors='coerce')\n",
        "\n",
        "# Handle missing values by filling NaNs with column means\n",
        "dataframe = dataframe.fillna(dataframe.mean())\n",
        "\n",
        "# Split the data into input (X) and output (Y)\n",
        "array = dataframe.values\n",
        "X = array[:, 0:8]\n",
        "Y = array[:, 8]\n",
        "\n",
        "# Ensure the target variable Y is in a binary classification format\n",
        "Y = Y.astype('int')  # Convert to integers for classification\n",
        "\n",
        "# Define model parameters\n",
        "num_trees = 30\n",
        "seed = 7\n",
        "\n",
        "# Set up cross-validation with shuffling enabled\n",
        "kfold = KFold(n_splits=10, shuffle=True, random_state=seed)\n",
        "\n",
        "# Initialize the AdaBoost model\n",
        "model = AdaBoostClassifier(n_estimators=num_trees, random_state=seed)\n",
        "\n",
        "# Evaluate the model using cross-validation\n",
        "results = cross_val_score(model, X, Y, cv=kfold)\n",
        "\n",
        "# Print the mean of the cross-validation results\n",
        "print(f\"Accuracy: {results.mean():.3f}\")\n"
      ],
      "metadata": {
        "colab": {
          "base_uri": "https://localhost:8080/"
        },
        "id": "shVvvKn4AoCp",
        "outputId": "ac29f967-ccc8-4639-8daa-da54cf6e57ac"
      },
      "execution_count": 21,
      "outputs": [
        {
          "output_type": "stream",
          "name": "stdout",
          "text": [
            "Accuracy: 0.762\n"
          ]
        }
      ]
    },
    {
      "cell_type": "markdown",
      "source": [
        "***Stochastic Gradient Boosting***"
      ],
      "metadata": {
        "id": "q3DzFTM1BhLe"
      }
    },
    {
      "cell_type": "code",
      "source": [
        "from pandas import read_csv\n",
        "from sklearn.model_selection import KFold, cross_val_score\n",
        "from sklearn.ensemble import GradientBoostingClassifier\n",
        "import pandas as pd\n",
        "\n",
        "# Load the dataset\n",
        "filename = '/content/sample_data/pima-indians-diabetes.data.csv'  # Correct path\n",
        "names = ['preg', 'plas', 'pres', 'skin', 'test', 'mass', 'pedi', 'age', 'class']\n",
        "dataframe = read_csv(filename, names=names)\n",
        "\n",
        "# Convert the dataframe to numeric values and handle non-numeric data\n",
        "dataframe = dataframe.apply(pd.to_numeric, errors='coerce')\n",
        "\n",
        "# Handle missing values by filling NaNs with column means\n",
        "dataframe = dataframe.fillna(dataframe.mean())\n",
        "\n",
        "# Split the data into input (X) and output (Y)\n",
        "array = dataframe.values\n",
        "X = array[:, 0:8]\n",
        "Y = array[:, 8]\n",
        "\n",
        "# Ensure the target variable Y is in a binary classification format\n",
        "Y = Y.astype('int')  # Convert to integers for classification\n",
        "\n",
        "# Define model parameters\n",
        "seed = 7\n",
        "num_trees = 100\n",
        "\n",
        "# Set up cross-validation with shuffling enabled\n",
        "kfold = KFold(n_splits=10, shuffle=True, random_state=seed)\n",
        "\n",
        "# Initialize the GradientBoosting model\n",
        "model = GradientBoostingClassifier(n_estimators=num_trees, random_state=seed)\n",
        "\n",
        "# Evaluate the model using cross-validation\n",
        "results = cross_val_score(model, X, Y, cv=kfold)\n",
        "\n",
        "# Print the mean of the cross-validation results\n",
        "print(f\"Accuracy: {results.mean():.3f}\")\n"
      ],
      "metadata": {
        "colab": {
          "base_uri": "https://localhost:8080/"
        },
        "id": "KHyGvM8WBWSb",
        "outputId": "02f7d35c-28bb-46ce-b027-47d35a44f40c"
      },
      "execution_count": 22,
      "outputs": [
        {
          "output_type": "stream",
          "name": "stdout",
          "text": [
            "Accuracy: 0.767\n"
          ]
        }
      ]
    },
    {
      "cell_type": "markdown",
      "source": [
        "# ***Voting Ensemble***"
      ],
      "metadata": {
        "id": "WmJW1JprB-kq"
      }
    },
    {
      "cell_type": "code",
      "source": [
        "from pandas import read_csv\n",
        "from sklearn.model_selection import KFold, cross_val_score\n",
        "from sklearn.linear_model import LogisticRegression\n",
        "from sklearn.tree import DecisionTreeClassifier\n",
        "from sklearn.svm import SVC\n",
        "from sklearn.ensemble import VotingClassifier\n",
        "import pandas as pd\n",
        "\n",
        "# Load the dataset\n",
        "filename = '/content/sample_data/pima-indians-diabetes.data.csv'  # Correct path\n",
        "names = ['preg', 'plas', 'pres', 'skin', 'test', 'mass', 'pedi', 'age', 'class']\n",
        "dataframe = read_csv(filename, names=names)\n",
        "\n",
        "# Convert the dataframe to numeric values and handle non-numeric data\n",
        "dataframe = dataframe.apply(pd.to_numeric, errors='coerce')\n",
        "\n",
        "# Handle missing values by filling NaNs with column means\n",
        "dataframe = dataframe.fillna(dataframe.mean())\n",
        "\n",
        "# Split the data into input (X) and output (Y)\n",
        "array = dataframe.values\n",
        "X = array[:, 0:8]\n",
        "Y = array[:, 8]\n",
        "\n",
        "# Ensure the target variable Y is in a binary classification format\n",
        "Y = Y.astype('int')  # Convert to integers for classification\n",
        "\n",
        "# Define KFold cross-validation with shuffle\n",
        "kfold = KFold(n_splits=10, shuffle=True, random_state=7)\n",
        "\n",
        "# Create the sub-models\n",
        "estimators = []\n",
        "model1 = LogisticRegression(max_iter=200)\n",
        "estimators.append(('logistic', model1))\n",
        "model2 = DecisionTreeClassifier(random_state=7)\n",
        "estimators.append(('cart', model2))\n",
        "model3 = SVC(random_state=7)\n",
        "estimators.append(('svm', model3))\n",
        "\n",
        "# Create the ensemble model\n",
        "ensemble = VotingClassifier(estimators)\n",
        "\n",
        "# Evaluate the ensemble model using cross-validation\n",
        "results = cross_val_score(ensemble, X, Y, cv=kfold)\n",
        "\n",
        "# Print the mean of the cross-validation results\n",
        "print(f\"Voting Ensemble Accuracy: {results.mean():.3f}\")\n"
      ],
      "metadata": {
        "colab": {
          "base_uri": "https://localhost:8080/"
        },
        "id": "ZF3PRjUSB7Tg",
        "outputId": "1ff7c7b4-37dc-48e1-8a24-912e7af8b3e9"
      },
      "execution_count": 23,
      "outputs": [
        {
          "output_type": "stream",
          "name": "stdout",
          "text": [
            "Voting Ensemble Accuracy: 0.780\n"
          ]
        }
      ]
    },
    {
      "cell_type": "code",
      "source": [],
      "metadata": {
        "id": "BfMqdoGSCGXl"
      },
      "execution_count": null,
      "outputs": []
    }
  ]
}