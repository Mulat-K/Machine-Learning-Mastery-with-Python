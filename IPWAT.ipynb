{
  "nbformat": 4,
  "nbformat_minor": 0,
  "metadata": {
    "colab": {
      "provenance": [],
      "authorship_tag": "ABX9TyNUo+qBWdmRAZAK+VP+uI7s",
      "include_colab_link": true
    },
    "kernelspec": {
      "name": "python3",
      "display_name": "Python 3"
    },
    "language_info": {
      "name": "python"
    }
  },
  "cells": [
    {
      "cell_type": "markdown",
      "metadata": {
        "id": "view-in-github",
        "colab_type": "text"
      },
      "source": [
        "<a href=\"https://colab.research.google.com/github/Mulat-K/Machine-Learning-Mastery-with-Python/blob/main/IPWAT.ipynb\" target=\"_parent\"><img src=\"https://colab.research.google.com/assets/colab-badge.svg\" alt=\"Open In Colab\"/></a>"
      ]
    },
    {
      "cell_type": "markdown",
      "source": [
        "***Improve Performance with Algorithm\n",
        " Tuning***"
      ],
      "metadata": {
        "id": "gSn68fVixcld"
      }
    },
    {
      "cell_type": "markdown",
      "source": [
        "# ***Grid Search Parameter Tuning***"
      ],
      "metadata": {
        "id": "8-NpbJRnxmZ8"
      }
    },
    {
      "cell_type": "code",
      "execution_count": 2,
      "metadata": {
        "colab": {
          "base_uri": "https://localhost:8080/"
        },
        "id": "fJA8vnm0xZhU",
        "outputId": "54d567d4-62e5-488a-b7ad-cdc6f7304d13"
      },
      "outputs": [
        {
          "output_type": "stream",
          "name": "stdout",
          "text": [
            "Best Score:  0.7699077238550924\n",
            "Best Alpha:  1.0\n"
          ]
        }
      ],
      "source": [
        "import numpy as np\n",
        "import pandas as pd\n",
        "from sklearn.linear_model import RidgeClassifier\n",
        "from sklearn.model_selection import GridSearchCV\n",
        "\n",
        "# Load dataset\n",
        "filename = '/content/sample_data/pima-indians-diabetes.data.csv'  # Make sure file path is correct\n",
        "names = ['preg', 'plas', 'pres', 'skin', 'test', 'mass', 'pedi', 'age', 'class']\n",
        "dataframe = pd.read_csv(filename, names=names)\n",
        "\n",
        "# Ensure all data is numeric and handle missing values\n",
        "dataframe = dataframe.apply(pd.to_numeric, errors='coerce')\n",
        "dataframe = dataframe.fillna(dataframe.mean())\n",
        "\n",
        "# Split into input (X) and output (Y)\n",
        "array = dataframe.values\n",
        "X = array[:, 0:8]\n",
        "Y = array[:, 8].astype('int')  # Ensure target is integer for classification\n",
        "\n",
        "# Define hyperparameter grid\n",
        "alphas = np.array([1, 0.1, 0.01, 0.001, 0.0001, 0])\n",
        "param_grid = dict(alpha=alphas)\n",
        "\n",
        "# Ridge Classifier and Grid Search\n",
        "model = RidgeClassifier()\n",
        "grid = GridSearchCV(estimator=model, param_grid=param_grid, cv=10)\n",
        "grid.fit(X, Y)\n",
        "\n",
        "# Output best result\n",
        "print(\"Best Score: \", grid.best_score_)\n",
        "print(\"Best Alpha: \", grid.best_estimator_.alpha)\n"
      ]
    },
    {
      "cell_type": "markdown",
      "source": [
        "# ***RandomSearchParameterTuning***"
      ],
      "metadata": {
        "id": "x0SgNbGnyU67"
      }
    },
    {
      "cell_type": "code",
      "source": [
        "import pandas as pd\n",
        "import numpy as np\n",
        "from scipy.stats import uniform\n",
        "from sklearn.linear_model import RidgeClassifier\n",
        "from sklearn.model_selection import RandomizedSearchCV\n",
        "\n",
        "# Load dataset\n",
        "filename = '/content/sample_data/pima-indians-diabetes.data.csv'  # Update to your actual path\n",
        "names = ['preg', 'plas', 'pres', 'skin', 'test', 'mass', 'pedi', 'age', 'class']\n",
        "dataframe = pd.read_csv(filename, names=names)\n",
        "\n",
        "# Ensure all data is numeric and fill missing values if any\n",
        "dataframe = dataframe.apply(pd.to_numeric, errors='coerce')\n",
        "dataframe.fillna(dataframe.mean(), inplace=True)\n",
        "\n",
        "# Split into input and output\n",
        "array = dataframe.values\n",
        "X = array[:, 0:8]\n",
        "Y = array[:, 8].astype('int')\n",
        "\n",
        "# Define parameter distribution\n",
        "param_dist = {'alpha': uniform(loc=0, scale=1)}  # Uniform distribution from 0 to 1\n",
        "\n",
        "# Create model\n",
        "model = RidgeClassifier()\n",
        "\n",
        "# Randomized search\n",
        "rsearch = RandomizedSearchCV(estimator=model, param_distributions=param_dist,\n",
        "                             n_iter=100, random_state=7, cv=10)\n",
        "rsearch.fit(X, Y)\n",
        "\n",
        "# Output the best results\n",
        "print(\"Best Score: \", rsearch.best_score_)\n",
        "print(\"Best Alpha: \", rsearch.best_estimator_.alpha)\n"
      ],
      "metadata": {
        "colab": {
          "base_uri": "https://localhost:8080/"
        },
        "id": "4OQgF7zNyBol",
        "outputId": "16704c02-f49d-48a4-fd76-cb6c84753e63"
      },
      "execution_count": 3,
      "outputs": [
        {
          "output_type": "stream",
          "name": "stdout",
          "text": [
            "Best Score:  0.7699077238550924\n",
            "Best Alpha:  0.07630828937395717\n"
          ]
        }
      ]
    }
  ]
}