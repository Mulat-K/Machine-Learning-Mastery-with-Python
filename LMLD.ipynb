{
  "nbformat": 4,
  "nbformat_minor": 0,
  "metadata": {
    "colab": {
      "provenance": [],
      "authorship_tag": "ABX9TyO7GAS8/MOVUIXORI4/hah+",
      "include_colab_link": true
    },
    "kernelspec": {
      "name": "python3",
      "display_name": "Python 3"
    },
    "language_info": {
      "name": "python"
    }
  },
  "cells": [
    {
      "cell_type": "markdown",
      "metadata": {
        "id": "view-in-github",
        "colab_type": "text"
      },
      "source": [
        "<a href=\"https://colab.research.google.com/github/Mulat-K/Machine-Learning-Mastery-with-Python/blob/main/LMLD.ipynb\" target=\"_parent\"><img src=\"https://colab.research.google.com/assets/colab-badge.svg\" alt=\"Open In Colab\"/></a>"
      ]
    },
    {
      "cell_type": "markdown",
      "source": [
        "Load *CSV* Files with the Python Standard Library bold text bold text"
      ],
      "metadata": {
        "id": "dMDf9o9eznzN"
      }
    },
    {
      "cell_type": "code",
      "execution_count": 16,
      "metadata": {
        "colab": {
          "base_uri": "https://localhost:8080/"
        },
        "id": "Kwp9_M-RfwqH",
        "outputId": "b00036ad-74d8-4265-f7cd-2024f2424544"
      },
      "outputs": [
        {
          "output_type": "stream",
          "name": "stdout",
          "text": [
            "(768, 9)\n"
          ]
        }
      ],
      "source": [
        "import csv\n",
        "import numpy as np\n",
        "\n",
        "filename = '/content/sample_data/pima-indians-diabetes.data.csv'\n",
        "\n",
        "with open(filename, 'r', newline='') as raw_data:\n",
        "    reader = csv.reader(raw_data, delimiter=',', quoting=csv.QUOTE_NONE)\n",
        "    next(reader)  # Skip the header row\n",
        "    data_list = list(reader)\n",
        "\n",
        "# Convert to NumPy array with float data type\n",
        "data = np.array(data_list, dtype=float)\n",
        "print(data.shape)\n"
      ]
    },
    {
      "cell_type": "markdown",
      "source": [
        "**Load CSV Files with NumPy**"
      ],
      "metadata": {
        "id": "tVVsQDJT04Lo"
      }
    },
    {
      "cell_type": "code",
      "source": [
        "from numpy import loadtxt\n",
        "\n",
        "filename = '/content/sample_data/pima-indians-diabetes.data.csv'\n",
        "\n",
        "with open(filename, 'r') as raw_data:\n",
        "    data = loadtxt(raw_data, delimiter=\",\", skiprows=1)  # skip the header row\n",
        "\n",
        "print(data.shape)\n"
      ],
      "metadata": {
        "colab": {
          "base_uri": "https://localhost:8080/"
        },
        "id": "ExkRWKy0w8yn",
        "outputId": "435a79e1-d063-4aad-f4a3-b542b98d0b19"
      },
      "execution_count": 22,
      "outputs": [
        {
          "output_type": "stream",
          "name": "stdout",
          "text": [
            "(768, 9)\n"
          ]
        }
      ]
    },
    {
      "cell_type": "markdown",
      "source": [
        "**Load CSV URL with NumPy**"
      ],
      "metadata": {
        "id": "GP5QEkmK2aC-"
      }
    },
    {
      "cell_type": "code",
      "source": [
        "from numpy import loadtxt\n",
        "from urllib.request import urlopen\n",
        "\n",
        "url = 'https://goo.gl/bDdBiA'\n",
        "\n",
        "# Open the URL and read the dataset\n",
        "with urlopen(url) as raw_data:\n",
        "    try:\n",
        "        dataset = loadtxt(raw_data, delimiter=\",\", skiprows=1)  # skip header if needed\n",
        "    except ValueError as e:\n",
        "        print(\"Error loading data:\", e)\n",
        "        dataset = None\n",
        "\n",
        "if dataset is not None:\n",
        "    print(dataset.shape)\n"
      ],
      "metadata": {
        "colab": {
          "base_uri": "https://localhost:8080/"
        },
        "id": "rPstg65908CZ",
        "outputId": "9460c73f-aab3-4166-8587-9096393cc732"
      },
      "execution_count": 24,
      "outputs": [
        {
          "output_type": "stream",
          "name": "stdout",
          "text": [
            "(767, 9)\n"
          ]
        }
      ]
    },
    {
      "cell_type": "markdown",
      "source": [
        "**Load CSV Files with Pandas**"
      ],
      "metadata": {
        "id": "sNugB62Y2nhC"
      }
    },
    {
      "cell_type": "code",
      "source": [
        "from urllib.request import urlopen# Load CSV using Pandas\n",
        "from pandas import read_csv\n",
        "filename = '/content/sample_data/pima-indians-diabetes.data.csv'\n",
        "names = ['preg', 'plas', 'pres', 'skin', 'test', 'mass', 'pedi', 'age', 'class']\n",
        "data = read_csv(filename, names=names)\n",
        "print(data.shape)"
      ],
      "metadata": {
        "colab": {
          "base_uri": "https://localhost:8080/"
        },
        "id": "YrN-dpqe2i5C",
        "outputId": "3015014d-7b8b-4608-936d-ef2ecded469f"
      },
      "execution_count": 25,
      "outputs": [
        {
          "output_type": "stream",
          "name": "stdout",
          "text": [
            "(769, 9)\n"
          ]
        }
      ]
    },
    {
      "cell_type": "markdown",
      "source": [
        "**Load CSV using Pandas from URL**"
      ],
      "metadata": {
        "id": "WnwpidlI3Chn"
      }
    },
    {
      "cell_type": "code",
      "source": [
        " # Load CSV using Pandas from URL\n",
        " from pandas import read_csv\n",
        " url = 'https://goo.gl/bDdBiA'\n",
        " names = ['preg', 'plas', 'pres', 'skin', 'test', 'mass', 'pedi', 'age', 'class']\n",
        " data = read_csv(url, names=names)\n",
        " print(data.shape)"
      ],
      "metadata": {
        "colab": {
          "base_uri": "https://localhost:8080/"
        },
        "id": "A0s8zib525N6",
        "outputId": "4b256712-01ba-46cb-af06-282e739ba374"
      },
      "execution_count": 26,
      "outputs": [
        {
          "output_type": "stream",
          "name": "stdout",
          "text": [
            "(768, 9)\n"
          ]
        }
      ]
    },
    {
      "cell_type": "code",
      "source": [],
      "metadata": {
        "id": "OPPVPpvv3Fb4"
      },
      "execution_count": null,
      "outputs": []
    }
  ]
}