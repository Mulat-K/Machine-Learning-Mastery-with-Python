{
  "nbformat": 4,
  "nbformat_minor": 0,
  "metadata": {
    "colab": {
      "provenance": [],
      "authorship_tag": "ABX9TyPSz/FrVlciwBW6GP8Zr9nA",
      "include_colab_link": true
    },
    "kernelspec": {
      "name": "python3",
      "display_name": "Python 3"
    },
    "language_info": {
      "name": "python"
    }
  },
  "cells": [
    {
      "cell_type": "markdown",
      "metadata": {
        "id": "view-in-github",
        "colab_type": "text"
      },
      "source": [
        "<a href=\"https://colab.research.google.com/github/Mulat-K/Machine-Learning-Mastery-with-Python/blob/main/UDWDS.ipynb\" target=\"_parent\"><img src=\"https://colab.research.google.com/assets/colab-badge.svg\" alt=\"Open In Colab\"/></a>"
      ]
    },
    {
      "cell_type": "markdown",
      "source": [
        "**Understand Your Data With\n",
        " Descriptive Statistics**"
      ],
      "metadata": {
        "id": "HHUijgin4JEI"
      }
    },
    {
      "cell_type": "markdown",
      "source": [
        "#**Peek at Your Data**"
      ],
      "metadata": {
        "id": "FCYF2lYU4xXP"
      }
    },
    {
      "cell_type": "code",
      "execution_count": 5,
      "metadata": {
        "colab": {
          "base_uri": "https://localhost:8080/"
        },
        "id": "yXed_n1Z36NO",
        "outputId": "ef75e111-b0c7-41d9-ae2a-c9d47be454e6"
      },
      "outputs": [
        {
          "output_type": "stream",
          "name": "stdout",
          "text": [
            "           preg     plas           pres           skin     test  mass  \\\n",
            "0   Pregnancies  Glucose  BloodPressure  SkinThickness  Insulin   BMI   \n",
            "1             6      148             72             35        0  33.6   \n",
            "2             1       85             66             29        0  26.6   \n",
            "3             8      183             64              0        0  23.3   \n",
            "4             1       89             66             23       94  28.1   \n",
            "5             0      137             40             35      168  43.1   \n",
            "6             5      116             74              0        0  25.6   \n",
            "7             3       78             50             32       88    31   \n",
            "8            10      115              0              0        0  35.3   \n",
            "9             2      197             70             45      543  30.5   \n",
            "10            8      125             96              0        0     0   \n",
            "11            4      110             92              0        0  37.6   \n",
            "12           10      168             74              0        0    38   \n",
            "13           10      139             80              0        0  27.1   \n",
            "14            1      189             60             23      846  30.1   \n",
            "15            5      166             72             19      175  25.8   \n",
            "16            7      100              0              0        0    30   \n",
            "17            0      118             84             47      230  45.8   \n",
            "18            7      107             74              0        0  29.6   \n",
            "19            1      103             30             38       83  43.3   \n",
            "\n",
            "                        pedi  age    class  \n",
            "0   DiabetesPedigreeFunction  Age  Outcome  \n",
            "1                      0.627   50        1  \n",
            "2                      0.351   31        0  \n",
            "3                      0.672   32        1  \n",
            "4                      0.167   21        0  \n",
            "5                      2.288   33        1  \n",
            "6                      0.201   30        0  \n",
            "7                      0.248   26        1  \n",
            "8                      0.134   29        0  \n",
            "9                      0.158   53        1  \n",
            "10                     0.232   54        1  \n",
            "11                     0.191   30        0  \n",
            "12                     0.537   34        1  \n",
            "13                     1.441   57        0  \n",
            "14                     0.398   59        1  \n",
            "15                     0.587   51        1  \n",
            "16                     0.484   32        1  \n",
            "17                     0.551   31        1  \n",
            "18                     0.254   31        1  \n",
            "19                     0.183   33        0  \n"
          ]
        }
      ],
      "source": [
        "# View first 20 rows\n",
        "from pandas import read_csv\n",
        "filename = \"/content/sample_data/pima-indians-diabetes.data.csv\"\n",
        "names = ['preg', 'plas', 'pres', 'skin', 'test', 'mass', 'pedi', 'age', 'class']\n",
        "data = read_csv(filename, names=names)\n",
        "peek = data.head(20)\n",
        "print(peek)"
      ]
    },
    {
      "cell_type": "markdown",
      "source": [
        "#**Dimensions of Your Data**"
      ],
      "metadata": {
        "id": "0gcvC3iX6uwi"
      }
    },
    {
      "cell_type": "code",
      "source": [
        "# Dimensions of your data\n",
        "from pandas import read_csv\n",
        "filename = \"/content/sample_data/pima-indians-diabetes.data.csv\"\n",
        "names = ['preg', 'plas', 'pres', 'skin', 'test', 'mass', 'pedi', 'age', 'class']\n",
        "data = read_csv(filename, names=names)\n",
        "shape = data.shape\n",
        "print(shape)"
      ],
      "metadata": {
        "colab": {
          "base_uri": "https://localhost:8080/"
        },
        "id": "Q0I_G1R15K35",
        "outputId": "b8d609fe-e114-4a95-aa33-863ddb3a61b0"
      },
      "execution_count": 8,
      "outputs": [
        {
          "output_type": "stream",
          "name": "stdout",
          "text": [
            "(769, 9)\n"
          ]
        }
      ]
    },
    {
      "cell_type": "markdown",
      "source": [
        "# **Data Type For Each Attribute**"
      ],
      "metadata": {
        "id": "sy-63u857G--"
      }
    },
    {
      "cell_type": "code",
      "source": [
        " # Data Types for Each Attribute\n",
        "from pandas import read_csv\n",
        "filename = \"/content/sample_data/pima-indians-diabetes.data.csv\"\n",
        "names = ['preg', 'plas', 'pres', 'skin', 'test', 'mass', 'pedi', 'age', 'class']\n",
        "data = read_csv(filename, names=names)\n",
        "types = data.dtypes\n",
        "print(types)"
      ],
      "metadata": {
        "colab": {
          "base_uri": "https://localhost:8080/"
        },
        "id": "uBx61TWS7Cgw",
        "outputId": "d1cdfb53-76f4-4d36-c20c-f229f7de9636"
      },
      "execution_count": 10,
      "outputs": [
        {
          "output_type": "stream",
          "name": "stdout",
          "text": [
            "preg     object\n",
            "plas     object\n",
            "pres     object\n",
            "skin     object\n",
            "test     object\n",
            "mass     object\n",
            "pedi     object\n",
            "age      object\n",
            "class    object\n",
            "dtype: object\n"
          ]
        }
      ]
    },
    {
      "cell_type": "markdown",
      "source": [
        "# **Descriptive Statistics**"
      ],
      "metadata": {
        "id": "tg1lAfje7bbb"
      }
    },
    {
      "cell_type": "code",
      "source": [],
      "metadata": {
        "id": "ltbyUQkI76Yp"
      },
      "execution_count": null,
      "outputs": []
    },
    {
      "cell_type": "markdown",
      "source": [
        "*   Count.\n",
        "\n",
        "*   Mean.\n",
        "\n",
        "*   Standard Deviation.\n",
        "\n",
        "*   Minimum Value.\n",
        "*   25th Percentile.\n",
        "\n",
        "*   50th Percentile (Median).\n",
        "\n",
        "*   75th Percentile.\n",
        "\n",
        "*   Maximum Value.\n"
      ],
      "metadata": {
        "id": "A8Vcx8YM7jXC"
      }
    },
    {
      "cell_type": "code",
      "source": [
        "import pandas as pd\n",
        "\n",
        "filename = \"/content/sample_data/pima-indians-diabetes.data.csv\"\n",
        "column_names = ['preg', 'plas', 'pres', 'skin', 'test', 'mass', 'pedi', 'age', 'class']\n",
        "\n",
        "# Load the dataset\n",
        "data = pd.read_csv(filename, names=column_names)\n",
        "\n",
        "# Configure display options\n",
        "pd.set_option('display.width', 100)\n",
        "pd.set_option('display.precision', 3)\n",
        "\n",
        "# Display statistical summary\n",
        "description = data.describe()\n",
        "print(description)\n"
      ],
      "metadata": {
        "colab": {
          "base_uri": "https://localhost:8080/"
        },
        "id": "GSebGgpU7S-8",
        "outputId": "599126d8-77d9-4bdc-d54a-3f8c256c3c32"
      },
      "execution_count": 11,
      "outputs": [
        {
          "output_type": "stream",
          "name": "stdout",
          "text": [
            "       preg plas pres skin test mass   pedi  age class\n",
            "count   769  769  769  769  769  769    769  769   769\n",
            "unique   18  137   48   52  187  249    518   53     3\n",
            "top       1  100   70    0    0   32  0.258   22     0\n",
            "freq    135   17   57  227  374   13      6   72   500\n"
          ]
        }
      ]
    },
    {
      "cell_type": "markdown",
      "source": [
        "# **Class Distribution (Classi cation Only)**"
      ],
      "metadata": {
        "id": "8CCJGhRq9EKA"
      }
    },
    {
      "cell_type": "code",
      "source": [
        "import pandas as pd\n",
        "\n",
        "filename = \"/content/sample_data/pima-indians-diabetes.data.csv\"\n",
        "column_names = ['preg', 'plas', 'pres', 'skin', 'test', 'mass', 'pedi', 'age', 'class']\n",
        "\n",
        "# Load dataset with custom column names\n",
        "data = pd.read_csv(filename, names=column_names)\n",
        "\n",
        "# Compute class distribution\n",
        "class_counts = data['class'].value_counts().sort_index()\n",
        "\n",
        "# Display result\n",
        "print(\"Class Distribution:\")\n",
        "print(class_counts)\n"
      ],
      "metadata": {
        "colab": {
          "base_uri": "https://localhost:8080/"
        },
        "id": "f_G2WgtV879O",
        "outputId": "18ba757e-f7d2-413f-fc3e-8eab21172d9c"
      },
      "execution_count": 13,
      "outputs": [
        {
          "output_type": "stream",
          "name": "stdout",
          "text": [
            "Class Distribution:\n",
            "class\n",
            "0          500\n",
            "1          268\n",
            "Outcome      1\n",
            "Name: count, dtype: int64\n",
            "Class Distribution:\n",
            "class\n",
            "0          500\n",
            "1          268\n",
            "Outcome      1\n",
            "Name: count, dtype: int64\n"
          ]
        }
      ]
    },
    {
      "cell_type": "markdown",
      "source": [
        "# **Correlations Between Attributes**"
      ],
      "metadata": {
        "id": "iJ4av5tp-AON"
      }
    },
    {
      "cell_type": "code",
      "source": [
        "import pandas as pd\n",
        "\n",
        "filename = \"/content/sample_data/pima-indians-diabetes.data.csv\"\n",
        "\n",
        "# Load dataset (let pandas read the headers from the file)\n",
        "data = pd.read_csv(filename)\n",
        "\n",
        "# Set display options\n",
        "pd.set_option('display.width', 100)\n",
        "pd.set_option('display.precision', 3)\n",
        "\n",
        "# Compute pairwise Pearson correlations\n",
        "correlations = data.corr(method='pearson')\n",
        "\n",
        "# Display correlation matrix\n",
        "print(\"Pairwise Pearson Correlations:\")\n",
        "print(correlations)\n"
      ],
      "metadata": {
        "colab": {
          "base_uri": "https://localhost:8080/"
        },
        "id": "zNm141bP9vfF",
        "outputId": "9a91143a-73ef-4567-c919-3f878fd7cc33"
      },
      "execution_count": 15,
      "outputs": [
        {
          "output_type": "stream",
          "name": "stdout",
          "text": [
            "Pairwise Pearson Correlations:\n",
            "                          Pregnancies  Glucose  BloodPressure  SkinThickness  Insulin    BMI  \\\n",
            "Pregnancies                     1.000    0.129          0.141         -0.082   -0.074  0.018   \n",
            "Glucose                         0.129    1.000          0.153          0.057    0.331  0.221   \n",
            "BloodPressure                   0.141    0.153          1.000          0.207    0.089  0.282   \n",
            "SkinThickness                  -0.082    0.057          0.207          1.000    0.437  0.393   \n",
            "Insulin                        -0.074    0.331          0.089          0.437    1.000  0.198   \n",
            "BMI                             0.018    0.221          0.282          0.393    0.198  1.000   \n",
            "DiabetesPedigreeFunction       -0.034    0.137          0.041          0.184    0.185  0.141   \n",
            "Age                             0.544    0.264          0.240         -0.114   -0.042  0.036   \n",
            "Outcome                         0.222    0.467          0.065          0.075    0.131  0.293   \n",
            "\n",
            "                          DiabetesPedigreeFunction    Age  Outcome  \n",
            "Pregnancies                                 -0.034  0.544    0.222  \n",
            "Glucose                                      0.137  0.264    0.467  \n",
            "BloodPressure                                0.041  0.240    0.065  \n",
            "SkinThickness                                0.184 -0.114    0.075  \n",
            "Insulin                                      0.185 -0.042    0.131  \n",
            "BMI                                          0.141  0.036    0.293  \n",
            "DiabetesPedigreeFunction                     1.000  0.034    0.174  \n",
            "Age                                          0.034  1.000    0.238  \n",
            "Outcome                                      0.174  0.238    1.000  \n"
          ]
        }
      ]
    },
    {
      "cell_type": "markdown",
      "source": [
        "# **Skew of Univariate Distributions**"
      ],
      "metadata": {
        "id": "eKpgXP3n-oVp"
      }
    },
    {
      "cell_type": "code",
      "source": [
        "import pandas as pd\n",
        "\n",
        "filename = \"/content/sample_data/pima-indians-diabetes.data.csv\"\n",
        "\n",
        "# Load dataset assuming the file has headers\n",
        "data = pd.read_csv(filename)\n",
        "\n",
        "# Compute skewness for each attribute\n",
        "skew = data.skew(numeric_only=True)\n",
        "\n",
        "print(\"Skewness for each attribute:\")\n",
        "print(skew)\n"
      ],
      "metadata": {
        "colab": {
          "base_uri": "https://localhost:8080/"
        },
        "id": "t2T25y8S-SB3",
        "outputId": "b21e722d-d8fa-4cb2-bf0e-e4f9f9188741"
      },
      "execution_count": 17,
      "outputs": [
        {
          "output_type": "stream",
          "name": "stdout",
          "text": [
            "Skewness for each attribute:\n",
            "Pregnancies                 0.902\n",
            "Glucose                     0.174\n",
            "BloodPressure              -1.844\n",
            "SkinThickness               0.109\n",
            "Insulin                     2.272\n",
            "BMI                        -0.429\n",
            "DiabetesPedigreeFunction    1.920\n",
            "Age                         1.130\n",
            "Outcome                     0.635\n",
            "dtype: float64\n"
          ]
        }
      ]
    }
  ]
}