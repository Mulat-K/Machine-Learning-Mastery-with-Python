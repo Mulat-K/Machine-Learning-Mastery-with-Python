{
  "nbformat": 4,
  "nbformat_minor": 0,
  "metadata": {
    "colab": {
      "provenance": [],
      "authorship_tag": "ABX9TyMmsi21VZrPeEgNTm4zFD+c",
      "include_colab_link": true
    },
    "kernelspec": {
      "name": "python3",
      "display_name": "Python 3"
    },
    "language_info": {
      "name": "python"
    }
  },
  "cells": [
    {
      "cell_type": "markdown",
      "metadata": {
        "id": "view-in-github",
        "colab_type": "text"
      },
      "source": [
        "<a href=\"https://colab.research.google.com/github/Mulat-K/Machine-Learning-Mastery-with-Python/blob/main/SLMLM.ipynb\" target=\"_parent\"><img src=\"https://colab.research.google.com/assets/colab-badge.svg\" alt=\"Open In Colab\"/></a>"
      ]
    },
    {
      "cell_type": "markdown",
      "source": [
        "***Save and Load Machine Learning\n",
        " Models***"
      ],
      "metadata": {
        "id": "DxHFiKF8y4Ey"
      }
    },
    {
      "cell_type": "markdown",
      "source": [
        "# ***Finalize Your Model with pickle***"
      ],
      "metadata": {
        "id": "wxQl__z0y6M4"
      }
    },
    {
      "cell_type": "code",
      "execution_count": 1,
      "metadata": {
        "colab": {
          "base_uri": "https://localhost:8080/"
        },
        "id": "sO6-2VkXy3QT",
        "outputId": "665ac384-c48a-45d4-e968-d234a38f1b96"
      },
      "outputs": [
        {
          "output_type": "stream",
          "name": "stdout",
          "text": [
            "Model Accuracy: 0.7756\n"
          ]
        }
      ],
      "source": [
        "import pandas as pd\n",
        "from sklearn.model_selection import train_test_split\n",
        "from sklearn.linear_model import LogisticRegression\n",
        "from pickle import dump, load\n",
        "\n",
        "# Load the dataset\n",
        "filename = '/content/sample_data/pima-indians-diabetes.data.csv'  # Updated path\n",
        "names = ['preg', 'plas', 'pres', 'skin', 'test', 'mass', 'pedi', 'age', 'class']\n",
        "dataframe = pd.read_csv(filename, names=names)\n",
        "\n",
        "# Ensure numeric values and handle missing data\n",
        "dataframe = dataframe.apply(pd.to_numeric, errors='coerce')\n",
        "dataframe.fillna(dataframe.mean(), inplace=True)\n",
        "\n",
        "# Split into input and output variables\n",
        "X = dataframe.iloc[:, 0:8].values\n",
        "Y = dataframe.iloc[:, 8].values.astype('int')\n",
        "\n",
        "# Split into training and testing sets\n",
        "X_train, X_test, Y_train, Y_test = train_test_split(X, Y, test_size=0.33, random_state=7)\n",
        "\n",
        "# Fit the model\n",
        "model = LogisticRegression(max_iter=200)\n",
        "model.fit(X_train, Y_train)\n",
        "\n",
        "# Save the model to disk\n",
        "model_filename = '/content/finalized_model.sav'  # Save path\n",
        "dump(model, open(model_filename, 'wb'))\n",
        "\n",
        "# Load the model from disk\n",
        "loaded_model = load(open(model_filename, 'rb'))\n",
        "\n",
        "# Evaluate the loaded model\n",
        "result = loaded_model.score(X_test, Y_test)\n",
        "print(f\"Model Accuracy: {result:.4f}\")\n"
      ]
    },
    {
      "cell_type": "markdown",
      "source": [
        "# ***Finalize Your Model with Joblib***"
      ],
      "metadata": {
        "id": "oDx0z4AyzRB3"
      }
    },
    {
      "cell_type": "code",
      "source": [
        "import pandas as pd\n",
        "from sklearn.model_selection import train_test_split\n",
        "from sklearn.linear_model import LogisticRegression\n",
        "import joblib  # ✅ Updated import\n",
        "\n",
        "# Load dataset\n",
        "filename = '/content/sample_data/pima-indians-diabetes.data.csv'\n",
        "names = ['preg', 'plas', 'pres', 'skin', 'test', 'mass', 'pedi', 'age', 'class']\n",
        "dataframe = pd.read_csv(filename, names=names)\n",
        "\n",
        "# Ensure numeric and handle missing data\n",
        "dataframe = dataframe.apply(pd.to_numeric, errors='coerce')\n",
        "dataframe.fillna(dataframe.mean(), inplace=True)\n",
        "\n",
        "# Features and target\n",
        "X = dataframe.iloc[:, 0:8].values\n",
        "Y = dataframe.iloc[:, 8].values.astype('int')\n",
        "\n",
        "# Train-test split\n",
        "X_train, X_test, Y_train, Y_test = train_test_split(X, Y, test_size=0.33, random_state=7)\n",
        "\n",
        "# Train model\n",
        "model = LogisticRegression(max_iter=200)\n",
        "model.fit(X_train, Y_train)\n",
        "\n",
        "# Save model\n",
        "model_path = '/content/finalized_model_joblib.sav'\n",
        "joblib.dump(model, model_path)\n",
        "\n",
        "# Load model\n",
        "loaded_model = joblib.load(model_path)\n",
        "\n",
        "# Evaluate\n",
        "result = loaded_model.score(X_test, Y_test)\n",
        "print(f\"Model Accuracy: {result:.4f}\")\n"
      ],
      "metadata": {
        "colab": {
          "base_uri": "https://localhost:8080/"
        },
        "id": "skpyb_WzzNU8",
        "outputId": "bfb61c5c-5a26-48bc-b914-ac640c8d3caa"
      },
      "execution_count": 2,
      "outputs": [
        {
          "output_type": "stream",
          "name": "stdout",
          "text": [
            "Model Accuracy: 0.7756\n"
          ]
        }
      ]
    }
  ]
}