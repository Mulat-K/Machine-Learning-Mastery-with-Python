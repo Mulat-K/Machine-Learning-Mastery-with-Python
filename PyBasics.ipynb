{
  "nbformat": 4,
  "nbformat_minor": 0,
  "metadata": {
    "colab": {
      "provenance": [],
      "authorship_tag": "ABX9TyN+REbwf3Ep/Y3g2SfbS5WD",
      "include_colab_link": true
    },
    "kernelspec": {
      "name": "python3",
      "display_name": "Python 3"
    },
    "language_info": {
      "name": "python"
    }
  },
  "cells": [
    {
      "cell_type": "markdown",
      "metadata": {
        "id": "view-in-github",
        "colab_type": "text"
      },
      "source": [
        "<a href=\"https://colab.research.google.com/github/Mulat-K/Machine-Learning-Mastery-with-Python/blob/main/PyBasics.ipynb\" target=\"_parent\"><img src=\"https://colab.research.google.com/assets/colab-badge.svg\" alt=\"Open In Colab\"/></a>"
      ]
    },
    {
      "cell_type": "markdown",
      "source": [
        "# Python Crash Course"
      ],
      "metadata": {
        "id": "EWDTodEjMCk9"
      }
    },
    {
      "cell_type": "code",
      "source": [
        " # scipy\n",
        " import scipy\n",
        " print('scipy: %s' % scipy.__version__)\n",
        " # numpy\n",
        " import numpy\n",
        " print('numpy: %s' % numpy.__version__)\n",
        "  # matplotlib\n",
        " import matplotlib\n",
        " print('matplotlib: %s' % matplotlib.__version__)\n",
        " # pandas\n",
        " import pandas\n",
        " print('pandas: %s' % pandas.__version__)"
      ],
      "metadata": {
        "colab": {
          "base_uri": "https://localhost:8080/"
        },
        "id": "ndQ29f95HdzA",
        "outputId": "39bd14a9-3c95-4aa2-cbc4-3da352c525de"
      },
      "execution_count": 3,
      "outputs": [
        {
          "output_type": "stream",
          "name": "stdout",
          "text": [
            "scipy: 1.14.1\n",
            "numpy: 2.0.2\n",
            "matplotlib: 3.10.0\n",
            "pandas: 2.2.2\n"
          ]
        }
      ]
    },
    {
      "cell_type": "code",
      "source": [
        " # scikit-learn\n",
        " import sklearn\n",
        " print('sklearn: %s' % sklearn.__version__)"
      ],
      "metadata": {
        "colab": {
          "base_uri": "https://localhost:8080/"
        },
        "id": "ucVOQTf7IHUQ",
        "outputId": "df7bf91d-dfd6-47d2-9746-131d063f1c62"
      },
      "execution_count": 4,
      "outputs": [
        {
          "output_type": "stream",
          "name": "stdout",
          "text": [
            "sklearn: 1.6.1\n"
          ]
        }
      ]
    },
    {
      "cell_type": "markdown",
      "source": [
        "\n",
        "\n",
        "# **Basics**\n",
        "\n",
        "\n",
        "\n",
        "**String**"
      ],
      "metadata": {
        "id": "H17D-OqRIc8g"
      }
    },
    {
      "cell_type": "code",
      "source": [
        " #Strings\n",
        " data= 'helloworld'\n",
        " print(data[0])\n",
        " print(len(data))\n",
        " print(data)"
      ],
      "metadata": {
        "colab": {
          "base_uri": "https://localhost:8080/"
        },
        "id": "IJQrtyVqIOHf",
        "outputId": "5b9be2a8-102b-4d7a-9492-6f76fb1371bd"
      },
      "execution_count": 5,
      "outputs": [
        {
          "output_type": "stream",
          "name": "stdout",
          "text": [
            "h\n",
            "10\n",
            "helloworld\n"
          ]
        }
      ]
    },
    {
      "cell_type": "markdown",
      "source": [
        "**Number**"
      ],
      "metadata": {
        "id": "k-MQEHfOI24H"
      }
    },
    {
      "cell_type": "code",
      "source": [
        " #Numbers\n",
        " value=123.1\n",
        " print(value)\n",
        " value=10\n",
        " print(value)"
      ],
      "metadata": {
        "colab": {
          "base_uri": "https://localhost:8080/"
        },
        "id": "dlgL90y0ITVr",
        "outputId": "24600da0-4eed-4791-f175-3fe9857decd1"
      },
      "execution_count": 6,
      "outputs": [
        {
          "output_type": "stream",
          "name": "stdout",
          "text": [
            "123.1\n",
            "10\n"
          ]
        }
      ]
    },
    {
      "cell_type": "markdown",
      "source": [
        "**Boolean**"
      ],
      "metadata": {
        "id": "MWN-XbUjI_Fv"
      }
    },
    {
      "cell_type": "code",
      "source": [
        " #Boolean\n",
        " a=True\n",
        " b=False\n",
        " print(a,b)"
      ],
      "metadata": {
        "colab": {
          "base_uri": "https://localhost:8080/"
        },
        "id": "JTwGdrcaIXf_",
        "outputId": "376c19c9-96c6-406a-debd-839a9a0674e0"
      },
      "execution_count": 7,
      "outputs": [
        {
          "output_type": "stream",
          "name": "stdout",
          "text": [
            "True False\n"
          ]
        }
      ]
    },
    {
      "cell_type": "markdown",
      "source": [
        "**Multiplle Assignment**"
      ],
      "metadata": {
        "id": "WSFAWh6VJHB-"
      }
    },
    {
      "cell_type": "code",
      "source": [
        " # Multiple Assignment\n",
        " a, b, c = 1, 2, 3\n",
        " print(a, b, c)"
      ],
      "metadata": {
        "colab": {
          "base_uri": "https://localhost:8080/"
        },
        "id": "2J8Hva8zJFaq",
        "outputId": "4bb8f83a-8bdb-4929-b89b-65d3e283df62"
      },
      "execution_count": 8,
      "outputs": [
        {
          "output_type": "stream",
          "name": "stdout",
          "text": [
            "1 2 3\n"
          ]
        }
      ]
    },
    {
      "cell_type": "markdown",
      "source": [
        "**No Value**"
      ],
      "metadata": {
        "id": "xyGzTUN5JqQO"
      }
    },
    {
      "cell_type": "code",
      "source": [
        "# No Value\n",
        "\n",
        "a = None\n",
        "print(a)"
      ],
      "metadata": {
        "colab": {
          "base_uri": "https://localhost:8080/"
        },
        "id": "o8fFjQtrJoPf",
        "outputId": "cc5a0b8a-7c19-4f53-d291-4fd5390c56cb"
      },
      "execution_count": 9,
      "outputs": [
        {
          "output_type": "stream",
          "name": "stdout",
          "text": [
            "None\n"
          ]
        }
      ]
    },
    {
      "cell_type": "markdown",
      "source": [
        "# **Flow Control**\n",
        "\n",
        "If-Then-Else Conditional"
      ],
      "metadata": {
        "id": "KXPFHcBLJ-s-"
      }
    },
    {
      "cell_type": "code",
      "source": [
        "value = 99\n",
        "if value == 99:\n",
        " print('That is fast')\n",
        "elif value > 200:\n",
        " print('That is too fast')\n",
        "else:\n",
        " print('That is safe')"
      ],
      "metadata": {
        "colab": {
          "base_uri": "https://localhost:8080/"
        },
        "id": "-RcmnNAYJ5xu",
        "outputId": "dfa08edb-367c-4aa4-814e-8bef75087074"
      },
      "execution_count": 11,
      "outputs": [
        {
          "output_type": "stream",
          "name": "stdout",
          "text": [
            "That is fast\n"
          ]
        }
      ]
    },
    {
      "cell_type": "markdown",
      "source": [
        "**For-Loop**"
      ],
      "metadata": {
        "id": "RVWHiPbKKef-"
      }
    },
    {
      "cell_type": "code",
      "source": [
        " #For-Loop\n",
        " for i in range(10):\n",
        "  print(i)"
      ],
      "metadata": {
        "colab": {
          "base_uri": "https://localhost:8080/"
        },
        "id": "TRNgic3IKVYG",
        "outputId": "2e9cbfd9-1e46-42dd-d35b-b472061a356e"
      },
      "execution_count": 15,
      "outputs": [
        {
          "output_type": "stream",
          "name": "stdout",
          "text": [
            "0\n",
            "1\n",
            "2\n",
            "3\n",
            "4\n",
            "5\n",
            "6\n",
            "7\n",
            "8\n",
            "9\n"
          ]
        }
      ]
    },
    {
      "cell_type": "markdown",
      "source": [
        "**While-Loop**"
      ],
      "metadata": {
        "id": "PkkcMPxpLFc9"
      }
    },
    {
      "cell_type": "code",
      "source": [
        " #While-Loop\n",
        " i=0\n",
        " while i < 10:\n",
        "  print(i)\n",
        "  i+=1"
      ],
      "metadata": {
        "colab": {
          "base_uri": "https://localhost:8080/"
        },
        "id": "q6OabeAeKm4T",
        "outputId": "425ee6ba-a071-404f-b762-5376688d34ea"
      },
      "execution_count": 16,
      "outputs": [
        {
          "output_type": "stream",
          "name": "stdout",
          "text": [
            "0\n",
            "1\n",
            "2\n",
            "3\n",
            "4\n",
            "5\n",
            "6\n",
            "7\n",
            "8\n",
            "9\n"
          ]
        }
      ]
    },
    {
      "cell_type": "markdown",
      "source": [
        "# **Data Structure**\n",
        "\n",
        "**Tuple**"
      ],
      "metadata": {
        "id": "rlA0GocQLQxl"
      }
    },
    {
      "cell_type": "code",
      "source": [
        " a = (1, 2, 3)\n",
        " print(a)"
      ],
      "metadata": {
        "colab": {
          "base_uri": "https://localhost:8080/"
        },
        "id": "uVHfCM0YLOcG",
        "outputId": "82ed92ec-2663-42c5-9844-f174bf3e6441"
      },
      "execution_count": 17,
      "outputs": [
        {
          "output_type": "stream",
          "name": "stdout",
          "text": [
            "(1, 2, 3)\n"
          ]
        }
      ]
    },
    {
      "cell_type": "markdown",
      "source": [
        "**List**"
      ],
      "metadata": {
        "id": "FLWp_VNfMcD8"
      }
    },
    {
      "cell_type": "code",
      "source": [
        " mylist = [1, 2, 3]\n",
        " print(\"Zeroth Value: %d\" % mylist[0])\n",
        " mylist.append(4)\n",
        " print(\"List Length: %d\" % len(mylist))\n",
        " for value in mylist:\n",
        "  print(value)"
      ],
      "metadata": {
        "colab": {
          "base_uri": "https://localhost:8080/"
        },
        "id": "CLMBsVPmMZab",
        "outputId": "396c25d3-3c7e-4871-903a-76444fd316a6"
      },
      "execution_count": 18,
      "outputs": [
        {
          "output_type": "stream",
          "name": "stdout",
          "text": [
            "Zeroth Value: 1\n",
            "List Length: 4\n",
            "1\n",
            "2\n",
            "3\n",
            "4\n"
          ]
        }
      ]
    },
    {
      "cell_type": "markdown",
      "source": [
        "**Dictionary**"
      ],
      "metadata": {
        "id": "zrkoS-W6MkAs"
      }
    },
    {
      "cell_type": "code",
      "source": [
        " mydict = {'a': 1, 'b': 2, 'c': 3}\n",
        " print(\"A value: %d\" % mydict['a'])\n",
        " mydict['a'] = 11\n",
        " print(\"A value: %d\" % mydict['a'])\n",
        " print(\"Keys: %s\" % mydict.keys())\n",
        " print(\"Values: %s\" % mydict.values())\n",
        " for key in mydict.keys():\n",
        "  print(mydict[key])"
      ],
      "metadata": {
        "colab": {
          "base_uri": "https://localhost:8080/"
        },
        "id": "5JUEPI64Mg5n",
        "outputId": "9c5e4618-e386-43df-87b5-f4fd427f2bf9"
      },
      "execution_count": 20,
      "outputs": [
        {
          "output_type": "stream",
          "name": "stdout",
          "text": [
            "A value: 1\n",
            "A value: 11\n",
            "Keys: dict_keys(['a', 'b', 'c'])\n",
            "Values: dict_values([11, 2, 3])\n",
            "11\n",
            "2\n",
            "3\n"
          ]
        }
      ]
    },
    {
      "cell_type": "markdown",
      "source": [
        "**Function**"
      ],
      "metadata": {
        "id": "Tc2uJBb_Mv98"
      }
    },
    {
      "cell_type": "code",
      "source": [
        " # Sum function\n",
        " def mysum(x, y):\n",
        "   return x + y\n",
        " # Test sum function\n",
        " result = mysum(1, 3)\n",
        " print(result)"
      ],
      "metadata": {
        "colab": {
          "base_uri": "https://localhost:8080/"
        },
        "id": "s1nDeXVPMo10",
        "outputId": "c906ccc5-34bf-4b88-eee7-f981b3d55b7b"
      },
      "execution_count": 22,
      "outputs": [
        {
          "output_type": "stream",
          "name": "stdout",
          "text": [
            "4\n"
          ]
        }
      ]
    },
    {
      "cell_type": "markdown",
      "source": [
        "#  NumPy Crash Course"
      ],
      "metadata": {
        "id": "MOZT0nDtM7Gk"
      }
    },
    {
      "cell_type": "markdown",
      "source": [
        "**Array**"
      ],
      "metadata": {
        "id": "h4fkRgXRM_Yb"
      }
    },
    {
      "cell_type": "code",
      "source": [
        "# Define an array\n",
        "import numpy as np\n",
        "\n",
        "mylist = [1, 2, 3]\n",
        "myarray = np.array(mylist)\n",
        "\n",
        "print(myarray)\n",
        "print(myarray.shape)\n"
      ],
      "metadata": {
        "colab": {
          "base_uri": "https://localhost:8080/"
        },
        "id": "2pMSliPUMzEZ",
        "outputId": "b7fdeca6-4bee-40e7-d742-862c7078bfb1"
      },
      "execution_count": 26,
      "outputs": [
        {
          "output_type": "stream",
          "name": "stdout",
          "text": [
            "[1 2 3]\n",
            "(3,)\n"
          ]
        }
      ]
    },
    {
      "cell_type": "markdown",
      "source": [
        "**Access Data**"
      ],
      "metadata": {
        "id": "PIGTwWRQQPSA"
      }
    },
    {
      "cell_type": "code",
      "source": [
        " # access values\n",
        " import numpy\n",
        " mylist = [[1, 2, 3], [3, 4, 5]]\n",
        " myarray = numpy.array(mylist)\n",
        " print(myarray)\n",
        " print(myarray.shape)\n",
        " print(\"First row: %s\" % myarray[0])\n",
        " print(\"Last row: %s\" % myarray[-1])\n",
        " print(\"Specific row and col: %s\" % myarray[0, 2])\n",
        " print(\"Whole col: %s\" % myarray[:, 2])"
      ],
      "metadata": {
        "colab": {
          "base_uri": "https://localhost:8080/"
        },
        "id": "LxUe5cZoNGUr",
        "outputId": "0f0fcec7-e1f1-4d6e-ab7d-60be9581ca19"
      },
      "execution_count": 27,
      "outputs": [
        {
          "output_type": "stream",
          "name": "stdout",
          "text": [
            "[[1 2 3]\n",
            " [3 4 5]]\n",
            "(2, 3)\n",
            "First row: [1 2 3]\n",
            "Last row: [3 4 5]\n",
            "Specific row and col: 3\n",
            "Whole col: [3 5]\n"
          ]
        }
      ]
    },
    {
      "cell_type": "markdown",
      "source": [
        "**Arithmetic**"
      ],
      "metadata": {
        "id": "euz0uuCtRAjY"
      }
    },
    {
      "cell_type": "code",
      "source": [
        "# Arithmetic with NumPy arrays\n",
        "import numpy as np\n",
        "\n",
        "myarray1 = np.array([2, 2, 2])\n",
        "myarray2 = np.array([3, 3, 3])\n",
        "\n",
        "print(\"Addition: %s\" % (myarray1 + myarray2))\n",
        "print(\"Multiplication: %s\" % (myarray1 * myarray2))\n"
      ],
      "metadata": {
        "colab": {
          "base_uri": "https://localhost:8080/"
        },
        "id": "Drr52nSJRMGs",
        "outputId": "79b1a587-2b4a-4b99-b920-ef8ebf140d2a"
      },
      "execution_count": 29,
      "outputs": [
        {
          "output_type": "stream",
          "name": "stdout",
          "text": [
            "Addition: [5 5 5]\n",
            "Multiplication: [6 6 6]\n"
          ]
        }
      ]
    },
    {
      "cell_type": "markdown",
      "source": [
        "# Matplotlib Crash Course\n",
        "**Line Plot**"
      ],
      "metadata": {
        "id": "Jcj8ud3jRhuo"
      }
    },
    {
      "cell_type": "code",
      "source": [
        "# Basic line plot\n",
        "import matplotlib.pyplot as plt\n",
        "import numpy as np\n",
        "\n",
        "myarray = np.array([1, 2, 3])\n",
        "\n",
        "plt.plot(myarray)\n",
        "plt.xlabel('some x axis')\n",
        "plt.ylabel('some y axis')\n",
        "plt.title('My First Plot')  # optional: adds a title\n",
        "plt.grid(True)              # optional: adds a grid\n",
        "plt.show()\n"
      ],
      "metadata": {
        "colab": {
          "base_uri": "https://localhost:8080/",
          "height": 472
        },
        "id": "QjrsfMWNRM0T",
        "outputId": "f7eb4c88-bb41-4b31-bec0-63b3baf905ae"
      },
      "execution_count": 31,
      "outputs": [
        {
          "output_type": "display_data",
          "data": {
            "text/plain": [
              "<Figure size 640x480 with 1 Axes>"
            ],
            "image/png": "[encoded data removed]"
          },
          "metadata": {}
        }
      ]
    },
    {
      "cell_type": "markdown",
      "source": [
        " **Scatter Plot**"
      ],
      "metadata": {
        "id": "1WP3IrmISDyY"
      }
    },
    {
      "cell_type": "code",
      "source": [
        "# Basic scatter plot\n",
        "import matplotlib.pyplot as plt\n",
        "import numpy as np\n",
        "\n",
        "x = np.array([1, 2, 3])\n",
        "y = np.array([2, 4, 6])\n",
        "\n",
        "plt.scatter(x, y, color='blue', marker='o') # You can customize color and marker\n",
        "plt.xlabel('some x axis')\n",
        "plt.ylabel('some y axis')\n",
        "plt.title('Basic Scatter Plot')\n",
        "plt.grid(True)\n",
        "plt.show()\n"
      ],
      "metadata": {
        "colab": {
          "base_uri": "https://localhost:8080/",
          "height": 472
        },
        "id": "28Go6IxSRuh_",
        "outputId": "5d5e6671-c931-45de-b652-ebdde7e4fcce"
      },
      "execution_count": 33,
      "outputs": [
        {
          "output_type": "display_data",
          "data": {
            "text/plain": [
              "<Figure size 640x480 with 1 Axes>"
            ],
            "image/png": "[encoded data removed]"
          },
          "metadata": {}
        }
      ]
    },
    {
      "cell_type": "markdown",
      "source": [
        "# Pandas Crash Course\n",
        "\n",
        "**Series**\n"
      ],
      "metadata": {
        "id": "I9nZfzczSeFP"
      }
    },
    {
      "cell_type": "code",
      "source": [
        "# Creating a Pandas Series\n",
        "import numpy as np\n",
        "import pandas as pd\n",
        "\n",
        "myarray = np.array([1, 2, 3])\n",
        "rownames = ['a', 'b', 'c']\n",
        "\n",
        "myseries = pd.Series(myarray, index=rownames)\n",
        "print(myseries)\n"
      ],
      "metadata": {
        "colab": {
          "base_uri": "https://localhost:8080/"
        },
        "id": "LNeeht5lSNwU",
        "outputId": "930f9d8f-1944-45c8-ffdd-dcfa7b6f71f1"
      },
      "execution_count": 35,
      "outputs": [
        {
          "output_type": "stream",
          "name": "stdout",
          "text": [
            "a    1\n",
            "b    2\n",
            "c    3\n",
            "dtype: int64\n"
          ]
        }
      ]
    },
    {
      "cell_type": "code",
      "source": [
        " print(myseries[0])\n",
        " print(myseries['a'])"
      ],
      "metadata": {
        "colab": {
          "base_uri": "https://localhost:8080/"
        },
        "id": "idSLR6jASpyT",
        "outputId": "cbe58cf0-9a10-4cac-c4fd-3841256de8b4"
      },
      "execution_count": 36,
      "outputs": [
        {
          "output_type": "stream",
          "name": "stdout",
          "text": [
            "1\n",
            "1\n"
          ]
        },
        {
          "output_type": "stream",
          "name": "stderr",
          "text": [
            "<ipython-input-36-7fb9910af66d>:1: FutureWarning: Series.__getitem__ treating keys as positions is deprecated. In a future version, integer keys will always be treated as labels (consistent with DataFrame behavior). To access a value by position, use `ser.iloc[pos]`\n",
            "  print(myseries[0])\n"
          ]
        }
      ]
    },
    {
      "cell_type": "markdown",
      "source": [
        "**DataFrame**"
      ],
      "metadata": {
        "id": "I40CnGcNTA7e"
      }
    },
    {
      "cell_type": "code",
      "source": [
        "# Creating a Pandas DataFrame\n",
        "import numpy as np\n",
        "import pandas as pd\n",
        "\n",
        "myarray = np.array([[1, 2, 3], [4, 5, 6]])\n",
        "rownames = ['a', 'b']\n",
        "colnames = ['one', 'two', 'three']\n",
        "\n",
        "mydataframe = pd.DataFrame(myarray, index=rownames, columns=colnames)\n",
        "print(mydataframe)\n"
      ],
      "metadata": {
        "colab": {
          "base_uri": "https://localhost:8080/"
        },
        "id": "opDIpLEnTEL-",
        "outputId": "485d4e84-bc04-494c-df29-c60a5872bd4e"
      },
      "execution_count": 38,
      "outputs": [
        {
          "output_type": "stream",
          "name": "stdout",
          "text": [
            "   one  two  three\n",
            "a    1    2      3\n",
            "b    4    5      6\n"
          ]
        }
      ]
    },
    {
      "cell_type": "code",
      "source": [
        " print(\"method1:\")\n",
        " print(\"onecolumn:\\n%s\"%mydataframe['one'])\n",
        " print(\"method2:\")\n",
        " print(\"onecolumn:\\n%s\"%mydataframe.one)"
      ],
      "metadata": {
        "colab": {
          "base_uri": "https://localhost:8080/"
        },
        "id": "FSPixYUYTFAY",
        "outputId": "bbd7d7a5-ad38-47ee-b638-0fa1f46e2ed7"
      },
      "execution_count": 39,
      "outputs": [
        {
          "output_type": "stream",
          "name": "stdout",
          "text": [
            "method1:\n",
            "onecolumn:\n",
            "a    1\n",
            "b    4\n",
            "Name: one, dtype: int64\n",
            "method2:\n",
            "onecolumn:\n",
            "a    1\n",
            "b    4\n",
            "Name: one, dtype: int64\n"
          ]
        }
      ]
    }
  ]
}