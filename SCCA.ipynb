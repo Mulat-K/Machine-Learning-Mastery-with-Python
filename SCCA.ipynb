{
  "nbformat": 4,
  "nbformat_minor": 0,
  "metadata": {
    "colab": {
      "provenance": [],
      "authorship_tag": "ABX9TyPbpYpenYxsql/O4VuiKxab",
      "include_colab_link": true
    },
    "kernelspec": {
      "name": "python3",
      "display_name": "Python 3"
    },
    "language_info": {
      "name": "python"
    }
  },
  "cells": [
    {
      "cell_type": "markdown",
      "metadata": {
        "id": "view-in-github",
        "colab_type": "text"
      },
      "source": [
        "<a href=\"https://colab.research.google.com/github/Mulat-K/Machine-Learning-Mastery-with-Python/blob/main/SCCA.ipynb\" target=\"_parent\"><img src=\"https://colab.research.google.com/assets/colab-badge.svg\" alt=\"Open In Colab\"/></a>"
      ]
    },
    {
      "cell_type": "markdown",
      "source": [
        "**Spot-Check Classi cation Algorithms**"
      ],
      "metadata": {
        "id": "UkyefyeGurEE"
      }
    },
    {
      "cell_type": "markdown",
      "source": [
        "# **Logistic Regression**"
      ],
      "metadata": {
        "id": "pBlYK8WWutms"
      }
    },
    {
      "cell_type": "code",
      "execution_count": 7,
      "metadata": {
        "colab": {
          "base_uri": "https://localhost:8080/"
        },
        "id": "9QnaJeGkuejm",
        "outputId": "7750ba7e-4b06-4c91-8c88-c2b88521c400"
      },
      "outputs": [
        {
          "output_type": "stream",
          "name": "stderr",
          "text": [
            "/usr/local/lib/python3.11/dist-packages/sklearn/linear_model/_logistic.py:465: ConvergenceWarning: lbfgs failed to converge (status=1):\n",
            "STOP: TOTAL NO. of ITERATIONS REACHED LIMIT.\n",
            "\n",
            "Increase the number of iterations (max_iter) or scale the data as shown in:\n",
            "    https://scikit-learn.org/stable/modules/preprocessing.html\n",
            "Please also refer to the documentation for alternative solver options:\n",
            "    https://scikit-learn.org/stable/modules/linear_model.html#logistic-regression\n",
            "  n_iter_i = _check_optimize_result(\n"
          ]
        },
        {
          "output_type": "stream",
          "name": "stdout",
          "text": [
            "Mean Accuracy: 0.772\n"
          ]
        }
      ],
      "source": [
        "from pandas import read_csv\n",
        "from sklearn.model_selection import KFold, cross_val_score\n",
        "from sklearn.linear_model import LogisticRegression\n",
        "\n",
        "# Use the correct path and skip the header\n",
        "filename = '/content/sample_data/pima-indians-diabetes.data.csv'\n",
        "names = ['preg', 'plas', 'pres', 'skin', 'test', 'mass', 'pedi', 'age', 'class']\n",
        "dataframe = read_csv(filename, names=names, skiprows=1)  # <-- Skip the header row\n",
        "\n",
        "# Prepare data\n",
        "array = dataframe.values\n",
        "X = array[:, 0:8]\n",
        "Y = array[:, 8]\n",
        "\n",
        "# Define the cross-validation strategy\n",
        "kfold = KFold(n_splits=10, shuffle=True, random_state=7)\n",
        "\n",
        "# Model training and evaluation\n",
        "model = LogisticRegression(max_iter=200)\n",
        "results = cross_val_score(model, X, Y, cv=kfold)\n",
        "\n",
        "# Output result\n",
        "print(\"Mean Accuracy: %.3f\" % results.mean())\n"
      ]
    },
    {
      "cell_type": "markdown",
      "source": [
        "# ***Nonlinear Machine Learning Algorithms***"
      ],
      "metadata": {
        "id": "c-RxVec9wNgy"
      }
    },
    {
      "cell_type": "markdown",
      "source": [
        "***k-Nearest Neighbors***"
      ],
      "metadata": {
        "id": "OhfUNjXrwRfh"
      }
    },
    {
      "cell_type": "code",
      "source": [
        "from pandas import read_csv\n",
        "from sklearn.model_selection import KFold, cross_val_score\n",
        "from sklearn.neighbors import KNeighborsClassifier\n",
        "\n",
        "# Correct file path and handle header properly\n",
        "filename = '/content/sample_data/pima-indians-diabetes.data.csv'\n",
        "names = ['preg', 'plas', 'pres', 'skin', 'test', 'mass', 'pedi', 'age', 'class']\n",
        "dataframe = read_csv(filename, names=names, skiprows=1)  # <-- Skip the original header\n",
        "\n",
        "# Prepare input and output\n",
        "array = dataframe.values\n",
        "X = array[:, 0:8]\n",
        "Y = array[:, 8]\n",
        "\n",
        "# Setup cross-validation\n",
        "kfold = KFold(n_splits=10, shuffle=True, random_state=7)\n",
        "\n",
        "# Define and evaluate KNN model\n",
        "model = KNeighborsClassifier()\n",
        "results = cross_val_score(model, X, Y, cv=kfold)\n",
        "\n",
        "# Output mean accuracy\n",
        "print(\"Mean Accuracy: %.3f\" % results.mean())\n"
      ],
      "metadata": {
        "colab": {
          "base_uri": "https://localhost:8080/"
        },
        "id": "EU9cjOirvCks",
        "outputId": "527c0e44-b222-4c69-d4c8-eb7058a578f5"
      },
      "execution_count": 8,
      "outputs": [
        {
          "output_type": "stream",
          "name": "stdout",
          "text": [
            "Mean Accuracy: 0.711\n"
          ]
        }
      ]
    },
    {
      "cell_type": "markdown",
      "source": [
        "***Naive Bayes***"
      ],
      "metadata": {
        "id": "ebiX-k1lweXy"
      }
    },
    {
      "cell_type": "code",
      "source": [
        "from pandas import read_csv\n",
        "from sklearn.model_selection import KFold, cross_val_score\n",
        "from sklearn.naive_bayes import GaussianNB\n",
        "\n",
        "# Use correct file path and skip original header\n",
        "filename = '/content/sample_data/pima-indians-diabetes.data.csv'\n",
        "names = ['preg', 'plas', 'pres', 'skin', 'test', 'mass', 'pedi', 'age', 'class']\n",
        "dataframe = read_csv(filename, names=names, skiprows=1)  # Skip the first row if it has headers\n",
        "\n",
        "# Split data into features and labels\n",
        "array = dataframe.values\n",
        "X = array[:, 0:8]\n",
        "Y = array[:, 8]\n",
        "\n",
        "# Set up cross-validation with shuffling\n",
        "kfold = KFold(n_splits=10, shuffle=True, random_state=7)\n",
        "\n",
        "# Initialize and evaluate the model\n",
        "model = GaussianNB()\n",
        "results = cross_val_score(model, X, Y, cv=kfold)\n",
        "\n",
        "# Output the mean accuracy\n",
        "print(\"Mean Accuracy: %.3f\" % results.mean())"
      ],
      "metadata": {
        "colab": {
          "base_uri": "https://localhost:8080/"
        },
        "id": "zI72WRhdwaxq",
        "outputId": "3f8ad4db-0b65-4e47-c68d-6fc8ad888af5"
      },
      "execution_count": 9,
      "outputs": [
        {
          "output_type": "stream",
          "name": "stdout",
          "text": [
            "Mean Accuracy: 0.759\n"
          ]
        }
      ]
    },
    {
      "cell_type": "markdown",
      "source": [
        "***Classi cation and Regression Trees***"
      ],
      "metadata": {
        "id": "JrI-PRiPwqvC"
      }
    },
    {
      "cell_type": "code",
      "source": [
        "from pandas import read_csv\n",
        "from sklearn.model_selection import KFold, cross_val_score\n",
        "from sklearn.tree import DecisionTreeClassifier\n",
        "\n",
        "# Correct path to your dataset (assuming you're using Colab)\n",
        "filename = '/content/sample_data/pima-indians-diabetes.data.csv'\n",
        "names = ['preg', 'plas', 'pres', 'skin', 'test', 'mass', 'pedi', 'age', 'class']\n",
        "\n",
        "# Read the CSV file and ensure the header row (if any) is skipped\n",
        "dataframe = read_csv(filename, names=names, skiprows=1)  # Skip header if necessary\n",
        "\n",
        "# Extract features and target\n",
        "array = dataframe.values\n",
        "X = array[:, 0:8]\n",
        "Y = array[:, 8]\n",
        "\n",
        "# Setup 10-fold cross-validation with shuffling\n",
        "kfold = KFold(n_splits=10, shuffle=True, random_state=7)\n",
        "\n",
        "# Initialize and evaluate Decision Tree model\n",
        "model = DecisionTreeClassifier()\n",
        "results = cross_val_score(model, X, Y, cv=kfold)\n",
        "\n",
        "# Print the mean accuracy\n",
        "print(\"Mean Accuracy: %.3f\" % results.mean())"
      ],
      "metadata": {
        "colab": {
          "base_uri": "https://localhost:8080/"
        },
        "id": "0UYrIUCcwn7G",
        "outputId": "19d860ff-1aaf-4cd6-8bf7-d01bf7229cb2"
      },
      "execution_count": 10,
      "outputs": [
        {
          "output_type": "stream",
          "name": "stdout",
          "text": [
            "Mean Accuracy: 0.686\n"
          ]
        }
      ]
    },
    {
      "cell_type": "markdown",
      "source": [
        "***Support Vector Machines***"
      ],
      "metadata": {
        "id": "rmNuJGu0w4g5"
      }
    },
    {
      "cell_type": "code",
      "source": [
        "from pandas import read_csv\n",
        "from sklearn.model_selection import KFold, cross_val_score\n",
        "from sklearn.svm import SVC\n",
        "\n",
        "# Correct file path for Colab\n",
        "filename = '/content/sample_data/pima-indians-diabetes.data.csv'\n",
        "names = ['preg', 'plas', 'pres', 'skin', 'test', 'mass', 'pedi', 'age', 'class']\n",
        "\n",
        "# Read the dataset, skipping header if necessary\n",
        "dataframe = read_csv(filename, names=names, skiprows=1)\n",
        "\n",
        "# Split into features and target\n",
        "array = dataframe.values\n",
        "X = array[:, 0:8]\n",
        "Y = array[:, 8]\n",
        "\n",
        "# Setup cross-validation with shuffling\n",
        "kfold = KFold(n_splits=10, shuffle=True, random_state=7)\n",
        "\n",
        "# Support Vector Machine model (default kernel='rbf')\n",
        "model = SVC()\n",
        "results = cross_val_score(model, X, Y, cv=kfold)\n",
        "\n",
        "# Print accuracy\n",
        "print(\"Mean Accuracy: %.3f\" % results.mean())\n"
      ],
      "metadata": {
        "colab": {
          "base_uri": "https://localhost:8080/"
        },
        "id": "G0Ne7jydw0w9",
        "outputId": "c6c75184-2218-4036-9b12-66ae5c69403b"
      },
      "execution_count": 11,
      "outputs": [
        {
          "output_type": "stream",
          "name": "stdout",
          "text": [
            "Mean Accuracy: 0.760\n"
          ]
        }
      ]
    }
  ]
}