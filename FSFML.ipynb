{
  "nbformat": 4,
  "nbformat_minor": 0,
  "metadata": {
    "colab": {
      "provenance": [],
      "authorship_tag": "ABX9TyNCAO+ox3J9ck1CgumvAdKw",
      "include_colab_link": true
    },
    "kernelspec": {
      "name": "python3",
      "display_name": "Python 3"
    },
    "language_info": {
      "name": "python"
    }
  },
  "cells": [
    {
      "cell_type": "markdown",
      "metadata": {
        "id": "view-in-github",
        "colab_type": "text"
      },
      "source": [
        "<a href=\"https://colab.research.google.com/github/Mulat-K/Machine-Learning-Mastery-with-Python/blob/main/FSFML.ipynb\" target=\"_parent\"><img src=\"https://colab.research.google.com/assets/colab-badge.svg\" alt=\"Open In Colab\"/></a>"
      ]
    },
    {
      "cell_type": "markdown",
      "source": [
        "**Feature Selection For Machine\n",
        " Learning**"
      ],
      "metadata": {
        "id": "KMl9VAnqlcR8"
      }
    },
    {
      "cell_type": "markdown",
      "source": [
        "1. Univariate Selection.\n",
        "2. Recursive Feature Elimination.\n",
        "3. Principle Component Analysis.\n",
        "4. Feature Importance."
      ],
      "metadata": {
        "id": "2tqTsydGljaD"
      }
    },
    {
      "cell_type": "markdown",
      "source": [
        "# **Univariate Selection**"
      ],
      "metadata": {
        "id": "-PQmnDqUlvNi"
      }
    },
    {
      "cell_type": "code",
      "execution_count": 3,
      "metadata": {
        "colab": {
          "base_uri": "https://localhost:8080/"
        },
        "id": "uTQ6FJLGlWym",
        "outputId": "d8474c09-1e20-482b-ded3-ee2f1cb1ff00"
      },
      "outputs": [
        {
          "output_type": "stream",
          "name": "stdout",
          "text": [
            "Chi-squared scores:\n",
            "[ 111.52  1411.887   17.605   53.108 2175.565  127.669    5.393  181.304]\n",
            "\n",
            "Top 4 selected features (first 5 samples):\n",
            "[[148.    0.   33.6  50. ]\n",
            " [ 85.    0.   26.6  31. ]\n",
            " [183.    0.   23.3  32. ]\n",
            " [ 89.   94.   28.1  21. ]\n",
            " [137.  168.   43.1  33. ]]\n"
          ]
        }
      ],
      "source": [
        "import pandas as pd\n",
        "import numpy as np\n",
        "from sklearn.feature_selection import SelectKBest\n",
        "from sklearn.feature_selection import chi2\n",
        "\n",
        "# Load dataset\n",
        "filename = '/content/sample_data/pima-indians-diabetes.data.csv'\n",
        "column_names = ['preg', 'plas', 'pres', 'skin', 'test', 'mass', 'pedi', 'age', 'class']\n",
        "\n",
        "dataframe = pd.read_csv(filename, names=column_names, header=None)\n",
        "\n",
        "# Ensure numeric data and drop NaNs\n",
        "dataframe = dataframe.apply(pd.to_numeric, errors='coerce')\n",
        "dataframe.dropna(inplace=True)\n",
        "\n",
        "# Split input and output\n",
        "X = dataframe.iloc[:, 0:8].values\n",
        "Y = dataframe.iloc[:, 8].values\n",
        "\n",
        "# Feature selection using chi-squared\n",
        "selector = SelectKBest(score_func=chi2, k=4)\n",
        "fit = selector.fit(X, Y)\n",
        "\n",
        "# Display scores and selected features\n",
        "np.set_printoptions(precision=3)\n",
        "print(\"Chi-squared scores:\")\n",
        "print(fit.scores_)\n",
        "\n",
        "selected_features = fit.transform(X)\n",
        "print(\"\\nTop 4 selected features (first 5 samples):\")\n",
        "print(selected_features[:5])"
      ]
    },
    {
      "cell_type": "markdown",
      "source": [
        "# **Recursive Feature Elimination.**"
      ],
      "metadata": {
        "id": "_RINMwsSmOma"
      }
    },
    {
      "cell_type": "code",
      "source": [
        "import pandas as pd\n",
        "import numpy as np\n",
        "from sklearn.feature_selection import RFE\n",
        "from sklearn.linear_model import LogisticRegression\n",
        "\n",
        "# Load dataset\n",
        "filename = '/content/sample_data/pima-indians-diabetes.data.csv'\n",
        "column_names = ['preg', 'plas', 'pres', 'skin', 'test', 'mass', 'pedi', 'age', 'class']\n",
        "dataframe = pd.read_csv(filename, names=column_names, header=None)\n",
        "\n",
        "# Ensure numeric data and drop rows with missing values\n",
        "dataframe = dataframe.apply(pd.to_numeric, errors='coerce')\n",
        "dataframe.dropna(inplace=True)\n",
        "\n",
        "# Split input and output\n",
        "X = dataframe.iloc[:, 0:8].values\n",
        "Y = dataframe.iloc[:, 8].values\n",
        "\n",
        "# Apply RFE with logistic regression\n",
        "model = LogisticRegression(solver='liblinear')  # liblinear works well for small datasets\n",
        "rfe = RFE(estimator=model, n_features_to_select=3)\n",
        "fit = rfe.fit(X, Y)\n",
        "\n",
        "# Output results\n",
        "print(\"Number of Selected Features: %d\" % fit.n_features_)\n",
        "print(\"Selected Features Mask (True = selected):\")\n",
        "print(fit.support_)\n",
        "print(\"Feature Ranking (1 = best):\")\n",
        "print(fit.ranking_)"
      ],
      "metadata": {
        "colab": {
          "base_uri": "https://localhost:8080/"
        },
        "id": "axobq_mcmQiz",
        "outputId": "8b08d97a-6179-4cc9-d4dd-e3f6a9d722c8"
      },
      "execution_count": 4,
      "outputs": [
        {
          "output_type": "stream",
          "name": "stdout",
          "text": [
            "Number of Selected Features: 3\n",
            "Selected Features Mask (True = selected):\n",
            "[ True False False False False  True  True False]\n",
            "Feature Ranking (1 = best):\n",
            "[1 2 3 5 6 1 1 4]\n"
          ]
        }
      ]
    },
    {
      "cell_type": "markdown",
      "source": [
        "# **Principle Component Analysis.**"
      ],
      "metadata": {
        "id": "vcRkH85_mT5a"
      }
    },
    {
      "cell_type": "code",
      "source": [
        "import pandas as pd\n",
        "import numpy as np\n",
        "from sklearn.decomposition import PCA\n",
        "\n",
        "# Load dataset\n",
        "filename = '/content/sample_data/pima-indians-diabetes.data.csv'\n",
        "column_names = ['preg', 'plas', 'pres', 'skin', 'test', 'mass', 'pedi', 'age', 'class']\n",
        "dataframe = pd.read_csv(filename, names=column_names, header=None)\n",
        "\n",
        "# Convert to numeric and clean missing data\n",
        "dataframe = dataframe.apply(pd.to_numeric, errors='coerce')\n",
        "dataframe.dropna(inplace=True)\n",
        "\n",
        "# Split into input and output\n",
        "X = dataframe.iloc[:, 0:8].values\n",
        "Y = dataframe.iloc[:, 8].values\n",
        "\n",
        "# Apply PCA\n",
        "pca = PCA(n_components=3)\n",
        "fit = pca.fit(X)\n",
        "\n",
        "# Output PCA results\n",
        "print(\"Explained Variance Ratio:\")\n",
        "print(fit.explained_variance_ratio_)\n",
        "\n",
        "print(\"\\nPrincipal Components (each row = 1 component, each column = feature weight):\")\n",
        "print(fit.components_)"
      ],
      "metadata": {
        "colab": {
          "base_uri": "https://localhost:8080/"
        },
        "id": "1YAWo2QNmTrb",
        "outputId": "1228ee5a-f1b8-4a7c-875c-9d8d4ac5b4fb"
      },
      "execution_count": 5,
      "outputs": [
        {
          "output_type": "stream",
          "name": "stdout",
          "text": [
            "Explained Variance Ratio:\n",
            "[0.889 0.062 0.026]\n",
            "\n",
            "Principal Components (each row = 1 component, each column = feature weight):\n",
            "[[-2.022e-03  9.781e-02  1.609e-02  6.076e-02  9.931e-01  1.401e-02\n",
            "   5.372e-04 -3.565e-03]\n",
            " [ 2.265e-02  9.722e-01  1.419e-01 -5.786e-02 -9.463e-02  4.697e-02\n",
            "   8.168e-04  1.402e-01]\n",
            " [ 2.246e-02 -1.434e-01  9.225e-01  3.070e-01 -2.098e-02  1.324e-01\n",
            "   6.400e-04  1.255e-01]]\n"
          ]
        }
      ]
    },
    {
      "cell_type": "markdown",
      "source": [
        "# **Feature Importance.**"
      ],
      "metadata": {
        "id": "ZM6sArygmSz0"
      }
    },
    {
      "cell_type": "code",
      "source": [
        "import pandas as pd\n",
        "import numpy as np\n",
        "from sklearn.ensemble import ExtraTreesClassifier\n",
        "\n",
        "# Load dataset\n",
        "filename = '/content/sample_data/pima-indians-diabetes.data.csv'\n",
        "column_names = ['preg', 'plas', 'pres', 'skin', 'test', 'mass', 'pedi', 'age', 'class']\n",
        "dataframe = pd.read_csv(filename, names=column_names, header=None)\n",
        "\n",
        "# Ensure numeric types and clean missing values\n",
        "dataframe = dataframe.apply(pd.to_numeric, errors='coerce')\n",
        "dataframe.dropna(inplace=True)\n",
        "\n",
        "# Split into input and output\n",
        "X = dataframe.iloc[:, 0:8].values\n",
        "Y = dataframe.iloc[:, 8].values\n",
        "\n",
        "# Train Extra Trees Classifier\n",
        "model = ExtraTreesClassifier()\n",
        "model.fit(X, Y)\n",
        "\n",
        "# Display feature importances\n",
        "print(\"Feature Importances:\")\n",
        "for name, score in zip(column_names[:8], model.feature_importances_):\n",
        "    print(f\"{name:>5}: {score:.4f}\")"
      ],
      "metadata": {
        "colab": {
          "base_uri": "https://localhost:8080/"
        },
        "id": "tg_YFk85mSXz",
        "outputId": "5b9c2745-5eff-4df2-c541-e92f65044c0a"
      },
      "execution_count": 6,
      "outputs": [
        {
          "output_type": "stream",
          "name": "stdout",
          "text": [
            "Feature Importances:\n",
            " preg: 0.1143\n",
            " plas: 0.2281\n",
            " pres: 0.0986\n",
            " skin: 0.0786\n",
            " test: 0.0752\n",
            " mass: 0.1425\n",
            " pedi: 0.1194\n",
            "  age: 0.1432\n"
          ]
        }
      ]
    }
  ]
}